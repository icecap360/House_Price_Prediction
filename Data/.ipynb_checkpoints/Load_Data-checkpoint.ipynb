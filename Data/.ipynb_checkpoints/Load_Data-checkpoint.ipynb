{
 "cells": [
  {
   "cell_type": "code",
   "execution_count": 9,
   "metadata": {},
   "outputs": [],
   "source": [
    "library(readr)\n",
    "setwd(\"C:/Users/iceca/Documents/Housing_Regression\")"
   ]
  },
  {
   "cell_type": "code",
   "execution_count": 11,
   "metadata": {},
   "outputs": [],
   "source": [
    "trainfilename <- \"Data/Train.csv\"\n",
    "testfilename <- \"Data/Test.csv\""
   ]
  },
  {
   "cell_type": "code",
   "execution_count": 12,
   "metadata": {},
   "outputs": [
    {
     "name": "stderr",
     "output_type": "stream",
     "text": [
      "Parsed with column specification:\n",
      "cols(\n",
      "  .default = col_character(),\n",
      "  Id = col_double(),\n",
      "  MSSubClass = col_double(),\n",
      "  LotFrontage = col_double(),\n",
      "  LotArea = col_double(),\n",
      "  OverallQual = col_double(),\n",
      "  OverallCond = col_double(),\n",
      "  YearBuilt = col_double(),\n",
      "  YearRemodAdd = col_double(),\n",
      "  MasVnrArea = col_double(),\n",
      "  BsmtFinSF1 = col_double(),\n",
      "  BsmtFinSF2 = col_double(),\n",
      "  BsmtUnfSF = col_double(),\n",
      "  TotalBsmtSF = col_double(),\n",
      "  `1stFlrSF` = col_double(),\n",
      "  `2ndFlrSF` = col_double(),\n",
      "  LowQualFinSF = col_double(),\n",
      "  GrLivArea = col_double(),\n",
      "  BsmtFullBath = col_double(),\n",
      "  BsmtHalfBath = col_double(),\n",
      "  FullBath = col_double()\n",
      "  # ... with 18 more columns\n",
      ")\n",
      "See spec(...) for full column specifications.\n",
      "Parsed with column specification:\n",
      "cols(\n",
      "  .default = col_character(),\n",
      "  Id = col_double(),\n",
      "  MSSubClass = col_double(),\n",
      "  LotFrontage = col_double(),\n",
      "  LotArea = col_double(),\n",
      "  OverallQual = col_double(),\n",
      "  OverallCond = col_double(),\n",
      "  YearBuilt = col_double(),\n",
      "  YearRemodAdd = col_double(),\n",
      "  MasVnrArea = col_double(),\n",
      "  BsmtFinSF1 = col_double(),\n",
      "  BsmtFinSF2 = col_double(),\n",
      "  BsmtUnfSF = col_double(),\n",
      "  TotalBsmtSF = col_double(),\n",
      "  `1stFlrSF` = col_double(),\n",
      "  `2ndFlrSF` = col_double(),\n",
      "  LowQualFinSF = col_double(),\n",
      "  GrLivArea = col_double(),\n",
      "  BsmtFullBath = col_double(),\n",
      "  BsmtHalfBath = col_double(),\n",
      "  FullBath = col_double()\n",
      "  # ... with 17 more columns\n",
      ")\n",
      "See spec(...) for full column specifications.\n"
     ]
    }
   ],
   "source": [
    "raw.train <- read_csv(trainfilename)\n",
    "raw.test <- read_csv(testfilename)"
   ]
  },
  {
   "cell_type": "code",
   "execution_count": 18,
   "metadata": {
    "scrolled": false
   },
   "outputs": [
    {
     "data": {
      "text/html": [
       "<table>\n",
       "<thead><tr><th scope=col>Id</th><th scope=col>MSSubClass</th><th scope=col>MSZoning</th><th scope=col>LotFrontage</th><th scope=col>LotArea</th><th scope=col>Street</th><th scope=col>Alley</th><th scope=col>LotShape</th><th scope=col>LandContour</th><th scope=col>Utilities</th><th scope=col>...</th><th scope=col>ScreenPorch</th><th scope=col>PoolArea</th><th scope=col>PoolQC</th><th scope=col>Fence</th><th scope=col>MiscFeature</th><th scope=col>MiscVal</th><th scope=col>MoSold</th><th scope=col>YrSold</th><th scope=col>SaleType</th><th scope=col>SaleCondition</th></tr></thead>\n",
       "<tbody>\n",
       "\t<tr><td>1461  </td><td> 20   </td><td>RH    </td><td>80    </td><td>11622 </td><td>Pave  </td><td>NA    </td><td>Reg   </td><td>Lvl   </td><td>AllPub</td><td>...   </td><td>120   </td><td>0     </td><td>NA    </td><td>MnPrv </td><td>NA    </td><td>    0 </td><td>6     </td><td>2010  </td><td>WD    </td><td>Normal</td></tr>\n",
       "\t<tr><td>1462  </td><td> 20   </td><td>RL    </td><td>81    </td><td>14267 </td><td>Pave  </td><td>NA    </td><td>IR1   </td><td>Lvl   </td><td>AllPub</td><td>...   </td><td>  0   </td><td>0     </td><td>NA    </td><td>NA    </td><td>Gar2  </td><td>12500 </td><td>6     </td><td>2010  </td><td>WD    </td><td>Normal</td></tr>\n",
       "\t<tr><td>1463  </td><td> 60   </td><td>RL    </td><td>74    </td><td>13830 </td><td>Pave  </td><td>NA    </td><td>IR1   </td><td>Lvl   </td><td>AllPub</td><td>...   </td><td>  0   </td><td>0     </td><td>NA    </td><td>MnPrv </td><td>NA    </td><td>    0 </td><td>3     </td><td>2010  </td><td>WD    </td><td>Normal</td></tr>\n",
       "\t<tr><td>1464  </td><td> 60   </td><td>RL    </td><td>78    </td><td> 9978 </td><td>Pave  </td><td>NA    </td><td>IR1   </td><td>Lvl   </td><td>AllPub</td><td>...   </td><td>  0   </td><td>0     </td><td>NA    </td><td>NA    </td><td>NA    </td><td>    0 </td><td>6     </td><td>2010  </td><td>WD    </td><td>Normal</td></tr>\n",
       "\t<tr><td>1465  </td><td>120   </td><td>RL    </td><td>43    </td><td> 5005 </td><td>Pave  </td><td>NA    </td><td>IR1   </td><td>HLS   </td><td>AllPub</td><td>...   </td><td>144   </td><td>0     </td><td>NA    </td><td>NA    </td><td>NA    </td><td>    0 </td><td>1     </td><td>2010  </td><td>WD    </td><td>Normal</td></tr>\n",
       "\t<tr><td>1466  </td><td> 60   </td><td>RL    </td><td>75    </td><td>10000 </td><td>Pave  </td><td>NA    </td><td>IR1   </td><td>Lvl   </td><td>AllPub</td><td>...   </td><td>  0   </td><td>0     </td><td>NA    </td><td>NA    </td><td>NA    </td><td>    0 </td><td>4     </td><td>2010  </td><td>WD    </td><td>Normal</td></tr>\n",
       "</tbody>\n",
       "</table>\n"
      ],
      "text/latex": [
       "\\begin{tabular}{r|llllllllllllllllllllllllllllllllllllllllllllllllllllllllllllllllllllllllllllllll}\n",
       " Id & MSSubClass & MSZoning & LotFrontage & LotArea & Street & Alley & LotShape & LandContour & Utilities & ... & ScreenPorch & PoolArea & PoolQC & Fence & MiscFeature & MiscVal & MoSold & YrSold & SaleType & SaleCondition\\\\\n",
       "\\hline\n",
       "\t 1461   &  20    & RH     & 80     & 11622  & Pave   & NA     & Reg    & Lvl    & AllPub & ...    & 120    & 0      & NA     & MnPrv  & NA     &     0  & 6      & 2010   & WD     & Normal\\\\\n",
       "\t 1462   &  20    & RL     & 81     & 14267  & Pave   & NA     & IR1    & Lvl    & AllPub & ...    &   0    & 0      & NA     & NA     & Gar2   & 12500  & 6      & 2010   & WD     & Normal\\\\\n",
       "\t 1463   &  60    & RL     & 74     & 13830  & Pave   & NA     & IR1    & Lvl    & AllPub & ...    &   0    & 0      & NA     & MnPrv  & NA     &     0  & 3      & 2010   & WD     & Normal\\\\\n",
       "\t 1464   &  60    & RL     & 78     &  9978  & Pave   & NA     & IR1    & Lvl    & AllPub & ...    &   0    & 0      & NA     & NA     & NA     &     0  & 6      & 2010   & WD     & Normal\\\\\n",
       "\t 1465   & 120    & RL     & 43     &  5005  & Pave   & NA     & IR1    & HLS    & AllPub & ...    & 144    & 0      & NA     & NA     & NA     &     0  & 1      & 2010   & WD     & Normal\\\\\n",
       "\t 1466   &  60    & RL     & 75     & 10000  & Pave   & NA     & IR1    & Lvl    & AllPub & ...    &   0    & 0      & NA     & NA     & NA     &     0  & 4      & 2010   & WD     & Normal\\\\\n",
       "\\end{tabular}\n"
      ],
      "text/markdown": [
       "\n",
       "| Id | MSSubClass | MSZoning | LotFrontage | LotArea | Street | Alley | LotShape | LandContour | Utilities | ... | ScreenPorch | PoolArea | PoolQC | Fence | MiscFeature | MiscVal | MoSold | YrSold | SaleType | SaleCondition |\n",
       "|---|---|---|---|---|---|---|---|---|---|---|---|---|---|---|---|---|---|---|---|---|\n",
       "| 1461   |  20    | RH     | 80     | 11622  | Pave   | NA     | Reg    | Lvl    | AllPub | ...    | 120    | 0      | NA     | MnPrv  | NA     |     0  | 6      | 2010   | WD     | Normal |\n",
       "| 1462   |  20    | RL     | 81     | 14267  | Pave   | NA     | IR1    | Lvl    | AllPub | ...    |   0    | 0      | NA     | NA     | Gar2   | 12500  | 6      | 2010   | WD     | Normal |\n",
       "| 1463   |  60    | RL     | 74     | 13830  | Pave   | NA     | IR1    | Lvl    | AllPub | ...    |   0    | 0      | NA     | MnPrv  | NA     |     0  | 3      | 2010   | WD     | Normal |\n",
       "| 1464   |  60    | RL     | 78     |  9978  | Pave   | NA     | IR1    | Lvl    | AllPub | ...    |   0    | 0      | NA     | NA     | NA     |     0  | 6      | 2010   | WD     | Normal |\n",
       "| 1465   | 120    | RL     | 43     |  5005  | Pave   | NA     | IR1    | HLS    | AllPub | ...    | 144    | 0      | NA     | NA     | NA     |     0  | 1      | 2010   | WD     | Normal |\n",
       "| 1466   |  60    | RL     | 75     | 10000  | Pave   | NA     | IR1    | Lvl    | AllPub | ...    |   0    | 0      | NA     | NA     | NA     |     0  | 4      | 2010   | WD     | Normal |\n",
       "\n"
      ],
      "text/plain": [
       "  Id   MSSubClass MSZoning LotFrontage LotArea Street Alley LotShape\n",
       "1 1461  20        RH       80          11622   Pave   NA    Reg     \n",
       "2 1462  20        RL       81          14267   Pave   NA    IR1     \n",
       "3 1463  60        RL       74          13830   Pave   NA    IR1     \n",
       "4 1464  60        RL       78           9978   Pave   NA    IR1     \n",
       "5 1465 120        RL       43           5005   Pave   NA    IR1     \n",
       "6 1466  60        RL       75          10000   Pave   NA    IR1     \n",
       "  LandContour Utilities ... ScreenPorch PoolArea PoolQC Fence MiscFeature\n",
       "1 Lvl         AllPub    ... 120         0        NA     MnPrv NA         \n",
       "2 Lvl         AllPub    ...   0         0        NA     NA    Gar2       \n",
       "3 Lvl         AllPub    ...   0         0        NA     MnPrv NA         \n",
       "4 Lvl         AllPub    ...   0         0        NA     NA    NA         \n",
       "5 HLS         AllPub    ... 144         0        NA     NA    NA         \n",
       "6 Lvl         AllPub    ...   0         0        NA     NA    NA         \n",
       "  MiscVal MoSold YrSold SaleType SaleCondition\n",
       "1     0   6      2010   WD       Normal       \n",
       "2 12500   6      2010   WD       Normal       \n",
       "3     0   3      2010   WD       Normal       \n",
       "4     0   6      2010   WD       Normal       \n",
       "5     0   1      2010   WD       Normal       \n",
       "6     0   4      2010   WD       Normal       "
      ]
     },
     "metadata": {},
     "output_type": "display_data"
    }
   ],
   "source": [
    "#read_lines(trainfilename)\n",
    "head(raw.test)\n",
    "save(raw.test, file = \"Data/RDAs/rawTrain.rda\")\n",
    "save(raw.train, file = \"Data/RDAs/rawTest.rda\")"
   ]
  }
 ],
 "metadata": {
  "kernelspec": {
   "display_name": "R",
   "language": "R",
   "name": "ir"
  },
  "language_info": {
   "codemirror_mode": "r",
   "file_extension": ".r",
   "mimetype": "text/x-r-source",
   "name": "R",
   "pygments_lexer": "r",
   "version": "3.6.1"
  }
 },
 "nbformat": 4,
 "nbformat_minor": 4
}
