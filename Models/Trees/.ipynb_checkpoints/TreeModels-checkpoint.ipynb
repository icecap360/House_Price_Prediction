{
 "cells": [
  {
   "cell_type": "code",
   "execution_count": 36,
   "metadata": {
    "scrolled": true
   },
   "outputs": [
    {
     "name": "stderr",
     "output_type": "stream",
     "text": [
      "Warning message in library(modules):\n",
      "\"Packages loaded with 'library' may not be available inside a module. For loading packages in a module, use 'import' instead.\"Warning message in library(rlang):\n",
      "\"Packages loaded with 'library' may not be available inside a module. For loading packages in a module, use 'import' instead.\""
     ]
    },
    {
     "name": "stdout",
     "output_type": "stream",
     "text": [
      "train has 1453 rows."
     ]
    }
   ],
   "source": [
    "library(tidyverse)\n",
    "library(caret)\n",
    "library(car)\n",
    "library(glmnet)\n",
    "library(dplyr)\n",
    "\n",
    "setwd('C:/Users/iceca/Documents/Housing_Regression')\n",
    "\n",
    "set.seed(42)\n",
    "\n",
    "m <- modules::use(\"Helpers/Loading_Data.R\")\n",
    "m <- m$load.train\n",
    "\n",
    "dat <- m$skew.data()\n",
    "\n",
    "test <- dat[[2]] \n",
    "colnames(test) <- make.names(colnames(test))\n",
    "\n",
    "train <- dat[[1]]\n",
    "labels <- m$get.labels() %>% arrange(Id) %>% filter(Id %in% train$Id)\n",
    "train <- dat[[1]] %>% arrange(Id) %>% mutate(SalePrice = labels$SalePrice, NumberLevel= as.numeric(train$NumberLevel)) \n",
    "colnames(train) <- make.names(colnames(train))\n",
    "train <- train %>% mutate_if(is.logical, function(x) {as.numeric(x)})\n",
    "\n",
    "cat(\"train has\" , nrow(train), \"rows.\")\n",
    "#I need to combine the train and test into one model matrix to ensure that train and test have the same factors\n",
    "dat.matrix <- sparse.model.matrix(SalePrice ~. , rbind( train , test %>% mutate(SalePrice=0) ) )\n",
    "train.matrix <- dat.matrix[1:nrow(train),]\n",
    "test.matrix <- dat.matrix[ (1+nrow(train)) : dim(dat.matrix)[1] ,]\n",
    "\n",
    "cross.validation.index <- createDataPartition(labels$SalePrice,times = 1,p = 0.15,list = FALSE)\n",
    "cv <- train[cross.validation.index , ]\n",
    "train.cv <- train[-cross.validation.index , ]\n",
    "train.raw <- m$featEngRaw.data()[[1]]\n",
    "cross.validation.index <- cross.validation.index %>% as.vector()\n",
    "cv.matrix <- train.matrix[cross.validation.index, ]\n",
    "cv.matrix.labels <- labels$SalePrice[cross.validation.index]\n",
    "train.cv.matrix <- train.matrix[-cross.validation.index, ]\n",
    "train.cv.matrix.labels <- labels$SalePrice[-cross.validation.index]\n"
   ]
  },
  {
   "cell_type": "code",
   "execution_count": 31,
   "metadata": {},
   "outputs": [
    {
     "data": {
      "text/html": [
       "<ol class=list-inline>\n",
       "\t<li>148</li>\n",
       "\t<li>216</li>\n",
       "</ol>\n"
      ],
      "text/latex": [
       "\\begin{enumerate*}\n",
       "\\item 148\n",
       "\\item 216\n",
       "\\end{enumerate*}\n"
      ],
      "text/markdown": [
       "1. 148\n",
       "2. 216\n",
       "\n",
       "\n"
      ],
      "text/plain": [
       "[1] 148 216"
      ]
     },
     "metadata": {},
     "output_type": "display_data"
    }
   ],
   "source": []
  },
  {
   "cell_type": "code",
   "execution_count": 16,
   "metadata": {},
   "outputs": [
    {
     "data": {
      "text/html": [
       "<table>\n",
       "<thead><tr><th scope=col>parameter</th></tr></thead>\n",
       "<tbody>\n",
       "\t<tr><td>none</td></tr>\n",
       "</tbody>\n",
       "</table>\n"
      ],
      "text/latex": [
       "\\begin{tabular}{r|l}\n",
       " parameter\\\\\n",
       "\\hline\n",
       "\t none\\\\\n",
       "\\end{tabular}\n"
      ],
      "text/markdown": [
       "\n",
       "| parameter |\n",
       "|---|\n",
       "| none |\n",
       "\n"
      ],
      "text/plain": [
       "  parameter\n",
       "1 none     "
      ]
     },
     "metadata": {},
     "output_type": "display_data"
    },
    {
     "data": {
      "text/html": [
       "<table>\n",
       "<thead><tr><th scope=col>parameter</th><th scope=col>logMSE</th><th scope=col>logMSESD</th></tr></thead>\n",
       "<tbody>\n",
       "\t<tr><td>none      </td><td>0.1890392 </td><td>0.01240303</td></tr>\n",
       "</tbody>\n",
       "</table>\n"
      ],
      "text/latex": [
       "\\begin{tabular}{r|lll}\n",
       " parameter & logMSE & logMSESD\\\\\n",
       "\\hline\n",
       "\t none       & 0.1890392  & 0.01240303\\\\\n",
       "\\end{tabular}\n"
      ],
      "text/markdown": [
       "\n",
       "| parameter | logMSE | logMSESD |\n",
       "|---|---|---|\n",
       "| none       | 0.1890392  | 0.01240303 |\n",
       "\n"
      ],
      "text/plain": [
       "  parameter logMSE    logMSESD  \n",
       "1 none      0.1890392 0.01240303"
      ]
     },
     "metadata": {},
     "output_type": "display_data"
    }
   ],
   "source": [
    "#BAGGING\n",
    "log.mse <- function (data,\n",
    "                        lev = NULL,\n",
    "                        model = NULL) {\n",
    "  out <-  sqrt(mean(   (log(data$obs) - log(abs(data$pred)))^2   ))\n",
    "  names(out) <- \"logMSE\"\n",
    "  out\n",
    "}\n",
    "\n",
    "bag.fit <- train(\n",
    "  SalePrice ~ ., \n",
    "    data = train, method = \"treebag\",\n",
    "  trControl = trainControl(\"cv\", number = 10 ,summaryFunction = log.mse ),\n",
    "  metric=\"logMSE\",\n",
    "    importance=TRUE,\n",
    "  tuneLength = 5\n",
    ")\n",
    "bag.fit$bestTune\n",
    "bag.fit$results"
   ]
  },
  {
   "cell_type": "code",
   "execution_count": 14,
   "metadata": {},
   "outputs": [
    {
     "data": {
      "image/png": "[encoded data removed]",
      "text/plain": [
       "plot without title"
      ]
     },
     "metadata": {},
     "output_type": "display_data"
    }
   ],
   "source": [
    "plot( varImp(bag.fit))\n"
   ]
  },
  {
   "cell_type": "code",
   "execution_count": 4,
   "metadata": {},
   "outputs": [
    {
     "name": "stderr",
     "output_type": "stream",
     "text": [
      "randomForest 4.6-14\n",
      "Type rfNews() to see new features/changes/bug fixes.\n",
      "\n",
      "Attaching package: 'randomForest'\n",
      "\n",
      "The following object is masked from 'package:dplyr':\n",
      "\n",
      "    combine\n",
      "\n",
      "The following object is masked from 'package:ggplot2':\n",
      "\n",
      "    margin\n",
      "\n"
     ]
    }
   ],
   "source": []
  },
  {
   "cell_type": "code",
   "execution_count": 5,
   "metadata": {
    "scrolled": true
   },
   "outputs": [],
   "source": []
  },
  {
   "cell_type": "code",
   "execution_count": 6,
   "metadata": {
    "scrolled": true
   },
   "outputs": [
    {
     "name": "stdout",
     "output_type": "stream",
     "text": [
      "i  1  mtry  23  ntree  100 \n",
      "error is  0.1256776 \n",
      "\n",
      "i  2  mtry  88  ntree  50 \n",
      "error is  0.137677 \n",
      "\n",
      "i  3  mtry  24  ntree  200 \n",
      "error is  0.124375 \n",
      "\n",
      "i  4  mtry  33  ntree  150 \n",
      "error is  0.1248251 \n",
      "\n",
      "i  5  mtry  85  ntree  100 \n",
      "error is  0.1307201 \n",
      "\n",
      "i  6  mtry  79  ntree  50 \n",
      "error is  0.1307392 \n",
      "\n",
      "i  7  mtry  51  ntree  50 \n",
      "error is  0.1290375 \n",
      "\n",
      "i  8  mtry  78  ntree  150 \n",
      "error is  0.1323749 \n",
      "\n",
      "i  9  mtry  73  ntree  250 \n",
      "error is  0.1316358 \n",
      "\n",
      "i  10  mtry  89  ntree  250 \n",
      "error is  0.1329723 \n",
      "\n",
      "i  11  mtry  21  ntree  200 \n",
      "error is  0.1242867 \n",
      "\n",
      "i  12  mtry  70  ntree  50 \n",
      "error is  0.1323772 \n",
      "\n",
      "i  13  mtry  52  ntree  200 \n",
      "error is  0.1287881 \n",
      "\n",
      "i  14  mtry  31  ntree  100 \n",
      "error is  0.1258311 \n",
      "\n",
      "i  15  mtry  36  ntree  100 \n",
      "error is  0.1270773 \n",
      "\n",
      "i  16  mtry  42  ntree  200 \n",
      "error is  0.1273279 \n",
      "\n",
      "i  17  mtry  76  ntree  200 \n",
      "error is  0.1310097 \n",
      "\n",
      "i  18  mtry  82  ntree  150 \n",
      "error is  0.1310581 \n",
      "\n",
      "i  19  mtry  42  ntree  100 \n",
      "error is  0.1252672 \n",
      "\n",
      "i  20  mtry  34  ntree  250 \n",
      "error is  0.1256902 \n",
      "\n",
      "i  21  mtry  52  ntree  200 \n",
      "error is  0.1298602 \n",
      "\n",
      "i  22  mtry  37  ntree  250 \n",
      "error is  0.1255627 \n",
      "\n",
      "i  23  mtry  28  ntree  200 \n",
      "error is  0.1261229 \n",
      "\n",
      "i  24  mtry  45  ntree  200 \n",
      "error is  0.1271646 \n",
      "\n",
      "i  25  mtry  33  ntree  100 \n",
      "error is  0.1248689 \n",
      "\n",
      "i  26  mtry  56  ntree  250 \n",
      "error is  0.128633 \n",
      "\n",
      "i  27  mtry  62  ntree  250 \n",
      "error is  0.129779 \n",
      "\n",
      "i  28  mtry  75  ntree  200 \n",
      "error is  0.1305427 \n",
      "\n",
      "i  29  mtry  45  ntree  100 \n",
      "error is  0.1277965 \n",
      "\n",
      "i  30  mtry  76  ntree  150 \n",
      "error is  0.1284144 \n",
      "\n",
      "i  31  mtry  70  ntree  200 \n",
      "error is  0.1294101 \n",
      "\n",
      "i  32  mtry  82  ntree  250 \n",
      "error is  0.1315221 \n",
      "\n",
      "i  33  mtry  35  ntree  50 \n",
      "error is  0.1262243 \n",
      "\n",
      "i  34  mtry  37  ntree  50 \n",
      "error is  0.1240475 \n",
      "\n",
      "i  35  mtry  81  ntree  100 \n",
      "error is  0.1330203 \n",
      "\n"
     ]
    }
   ],
   "source": [
    "#HYPERTUNING THE RANDOM FOREST\n",
    "#random forests are a complex algorithm and hence suseptable to parameter selection, so I start with a random search\n",
    "library(randomForest)\n",
    "set.seed(4)\n",
    "params <- expand.grid(mtry=20:90, ntree=c(50,100,150,200,250))\n",
    "cv.length=35\n",
    "mtrys <- rep(0,cv.length)\n",
    "ntrees <- rep(0,cv.length)\n",
    "errors <- rep(0,cv.length)\n",
    "for (i in 1:cv.length) {\n",
    "    #select the parameters\n",
    "    par <- params[sample(nrow(params) , 1),]\n",
    "    mtrys[i] = par$mtry\n",
    "    ntrees[i] = par$ntree\n",
    "    cat(\"i \",i,\" mtry \", mtrys[i], \" ntree \", ntrees[i],\"\\n\")\n",
    "    \n",
    "    #train the model and calulate errors\n",
    "    rf.fit <- randomForest(SalePrice~., data=train.cv, mtry=mtrys[i] , ntree=ntrees[i])\n",
    "    errors[i]= sqrt(mean( (log( predict(rf.fit , newdata = cv)) - log(cv$SalePrice))^2 ))\n",
    "    cat(\"error is \", errors[i], \"\\n\")\n",
    "    cat(\"\\n\")\n",
    "    \n",
    "    #save the results to a csv incase training fails\n",
    "    rf.results <- data.frame(mtry = mtrys, ntree=ntrees, errors=errors)\n",
    "    write.csv(rf.results, file=\"Models/Trees/RandomForestsCVResults.csv\")\n",
    "}"
   ]
  },
  {
   "cell_type": "code",
   "execution_count": 72,
   "metadata": {},
   "outputs": [
    {
     "name": "stdout",
     "output_type": "stream",
     "text": [
      "i  1  mtry  30  ntree  250 \n",
      "error is  0.1234384 \n",
      "\n",
      "i  2  mtry  30  ntree  200 \n",
      "error is  0.1267525 \n",
      "\n",
      "i  3  mtry  18  ntree  250 \n",
      "error is  0.1238556 \n",
      "\n",
      "i  4  mtry  18  ntree  200 \n",
      "error is  0.1243797 \n",
      "\n",
      "i  5  mtry  18  ntree  250 \n",
      "error is  0.1232021 \n",
      "\n",
      "i  6  mtry  18  ntree  200 \n",
      "error is  0.1234874 \n",
      "\n",
      "i  7  mtry  25  ntree  200 \n",
      "error is  0.1255628 \n",
      "\n",
      "i  8  mtry  12  ntree  200 \n",
      "error is  0.1247534 \n",
      "\n"
     ]
    },
    {
     "name": "stderr",
     "output_type": "stream",
     "text": [
      "Warning message:\n",
      "\"Raster pixels are placed at uneven horizontal intervals and will be shifted. Consider using geom_tile() instead.\""
     ]
    },
    {
     "data": {
      "image/png": "[encoded data removed]",
      "text/plain": [
       "plot without title"
      ]
     },
     "metadata": {},
     "output_type": "display_data"
    },
    {
     "data": {
      "image/png": "[encoded data removed]",
      "text/plain": [
       "plot without title"
      ]
     },
     "metadata": {},
     "output_type": "display_data"
    }
   ],
   "source": [
    "#Looking at the results fewer mtry and more number of trees perform better\n",
    "ggplot(rf.results, aes(mtry, ntree, fill = errors)) + geom_raster()+ scale_fill_gradientn(colours=c(\"yellow\",\"red\"))\n",
    "\n",
    "#so I will perform another search for parameter values, but this time with a for focused search.\n",
    "\n",
    "#HYPERTUNING THE RANDOM FOREST\n",
    "#random forests are a complex algorithm and hence suseptable to parameter selection, so I start with a random search\n",
    "library(randomForest)\n",
    "set.seed(4)\n",
    "params <- expand.grid(mtry=c(12,18,25,30), ntree=c(200,250))\n",
    "cv.length=8\n",
    "mtrys <- rep(0,cv.length)\n",
    "ntrees <- rep(0,cv.length)\n",
    "errors <- rep(0,cv.length)\n",
    "for (i in 1:cv.length) {\n",
    "    #select the parameters\n",
    "    par <- params[sample(nrow(params) , 1),]\n",
    "    mtrys[i] = par$mtry\n",
    "    ntrees[i] = par$ntree\n",
    "    cat(\"i \",i,\" mtry \", mtrys[i], \" ntree \", ntrees[i],\"\\n\")\n",
    "    \n",
    "    #train the model and calulate errors\n",
    "    rf.fit <- randomForest(SalePrice~., data=train.cv, mtry=mtrys[i] , ntree=ntrees[i])\n",
    "    errors[i]= sqrt(mean( (log( predict(rf.fit , newdata = cv)) - log(cv$SalePrice))^2 ))\n",
    "    cat(\"error is \", errors[i], \"\\n\")\n",
    "    cat(\"\\n\")\n",
    "    \n",
    "    #save the results to a csv incase training fails\n",
    "    rf.results <- data.frame(mtry = mtrys, ntree=ntrees, errors=errors)\n",
    "    write.csv(rf.results, file=\"Models/Trees/RandomForestsCVResults_grid.csv\")\n",
    "}\n",
    "ggplot(rf.results, aes(mtry, ntree, fill = errors)) + geom_raster()+ scale_fill_gradientn(colours=c(\"yellow\",\"red\"))\n"
   ]
  },
  {
   "cell_type": "code",
   "execution_count": 86,
   "metadata": {},
   "outputs": [
    {
     "data": {
      "text/html": [
       "0.123309596979865"
      ],
      "text/latex": [
       "0.123309596979865"
      ],
      "text/markdown": [
       "0.123309596979865"
      ],
      "text/plain": [
       "[1] 0.1233096"
      ]
     },
     "metadata": {},
     "output_type": "display_data"
    },
    {
     "data": {
      "text/html": [
       "<ol class=list-inline>\n",
       "\t<li>'call'</li>\n",
       "\t<li>'type'</li>\n",
       "\t<li>'predicted'</li>\n",
       "\t<li>'mse'</li>\n",
       "\t<li>'rsq'</li>\n",
       "\t<li>'oob.times'</li>\n",
       "\t<li>'importance'</li>\n",
       "\t<li>'importanceSD'</li>\n",
       "\t<li>'localImportance'</li>\n",
       "\t<li>'proximity'</li>\n",
       "\t<li>'ntree'</li>\n",
       "\t<li>'mtry'</li>\n",
       "\t<li>'forest'</li>\n",
       "\t<li>'coefs'</li>\n",
       "\t<li>'y'</li>\n",
       "\t<li>'test'</li>\n",
       "\t<li>'inbag'</li>\n",
       "\t<li>'terms'</li>\n",
       "</ol>\n"
      ],
      "text/latex": [
       "\\begin{enumerate*}\n",
       "\\item 'call'\n",
       "\\item 'type'\n",
       "\\item 'predicted'\n",
       "\\item 'mse'\n",
       "\\item 'rsq'\n",
       "\\item 'oob.times'\n",
       "\\item 'importance'\n",
       "\\item 'importanceSD'\n",
       "\\item 'localImportance'\n",
       "\\item 'proximity'\n",
       "\\item 'ntree'\n",
       "\\item 'mtry'\n",
       "\\item 'forest'\n",
       "\\item 'coefs'\n",
       "\\item 'y'\n",
       "\\item 'test'\n",
       "\\item 'inbag'\n",
       "\\item 'terms'\n",
       "\\end{enumerate*}\n"
      ],
      "text/markdown": [
       "1. 'call'\n",
       "2. 'type'\n",
       "3. 'predicted'\n",
       "4. 'mse'\n",
       "5. 'rsq'\n",
       "6. 'oob.times'\n",
       "7. 'importance'\n",
       "8. 'importanceSD'\n",
       "9. 'localImportance'\n",
       "10. 'proximity'\n",
       "11. 'ntree'\n",
       "12. 'mtry'\n",
       "13. 'forest'\n",
       "14. 'coefs'\n",
       "15. 'y'\n",
       "16. 'test'\n",
       "17. 'inbag'\n",
       "18. 'terms'\n",
       "\n",
       "\n"
      ],
      "text/plain": [
       " [1] \"call\"            \"type\"            \"predicted\"       \"mse\"            \n",
       " [5] \"rsq\"             \"oob.times\"       \"importance\"      \"importanceSD\"   \n",
       " [9] \"localImportance\" \"proximity\"       \"ntree\"           \"mtry\"           \n",
       "[13] \"forest\"          \"coefs\"           \"y\"               \"test\"           \n",
       "[17] \"inbag\"           \"terms\"          "
      ]
     },
     "metadata": {},
     "output_type": "display_data"
    }
   ],
   "source": [
    "#Final RandomForest model\n",
    "library(randomForest)\n",
    "set.seed(42)\n",
    "rf.fit <- randomForest(SalePrice~., data=train.cv, mtry=20, ntree=400)\n",
    "#(log( predict(tree.fit , newdata = cv)) - log(cv$SalePrice))^2  %>% is.na() %>% any()\n",
    "sqrt(mean( (log( predict(rf.fit , newdata = cv)) - log(cv$SalePrice))^2 ))\n",
    "rf.fit %>% names()"
   ]
  },
  {
   "cell_type": "code",
   "execution_count": 87,
   "metadata": {},
   "outputs": [],
   "source": [
    "test.predict <- data.frame(Id = test$Id, SalePrice = predict(rf.fit , newdata=test)) %>% arrange(Id)\n",
    "write.csv(test.predict, \"Models/Trees/Random Forest Predictions.csv\", row.names=FALSE)"
   ]
  },
  {
   "cell_type": "code",
   "execution_count": 125,
   "metadata": {},
   "outputs": [
    {
     "name": "stdout",
     "output_type": "stream",
     "text": [
      "i  1  depth  5  ntree  300  shrinkage  0.1 \n",
      "Iter   TrainDeviance   ValidDeviance   StepSize   Improve\n",
      "     1 4923161879.9965             nan     0.1000 707984775.7939\n",
      "     2 4317338327.2436             nan     0.1000 657445235.8000\n",
      "     3 3716847328.0478             nan     0.1000 556716636.5928\n",
      "     4 3265371046.0716             nan     0.1000 454135303.0180\n",
      "     5 2884601028.9710             nan     0.1000 361508491.7757\n",
      "     6 2584440564.7214             nan     0.1000 322385665.4748\n",
      "     7 2295473155.6332             nan     0.1000 303380169.1317\n",
      "     8 2063716381.9129             nan     0.1000 215573598.4104\n",
      "     9 1846951014.7723             nan     0.1000 193213748.8971\n",
      "    10 1673910570.6387             nan     0.1000 137845868.3520\n",
      "    20 754835757.0895             nan     0.1000 41575467.7338\n",
      "    40 383305184.5125             nan     0.1000 2320132.5149\n",
      "    60 295453647.7145             nan     0.1000 -3644533.9155\n",
      "    80 245649314.7245             nan     0.1000 -725417.6498\n",
      "   100 217875131.5123             nan     0.1000 76641.9394\n",
      "   120 196409877.7321             nan     0.1000 -682664.4115\n",
      "   140 176306776.1808             nan     0.1000 -700292.9805\n",
      "   160 162787527.7258             nan     0.1000 -1546640.5990\n",
      "   180 147686925.1012             nan     0.1000 -1472890.5142\n",
      "   200 136880716.1603             nan     0.1000 -1185625.9734\n",
      "   220 128167411.0113             nan     0.1000 -738530.0311\n",
      "   240 118265386.9666             nan     0.1000 -26223.8818\n",
      "   260 109469661.1855             nan     0.1000 -504769.8645\n",
      "   280 101125479.9528             nan     0.1000 -251934.0228\n",
      "   300 94943499.8356             nan     0.1000 -396761.4798\n",
      "\n"
     ]
    },
    {
     "name": "stderr",
     "output_type": "stream",
     "text": [
      "Using 300 trees...\n",
      "\n"
     ]
    },
    {
     "name": "stdout",
     "output_type": "stream",
     "text": [
      "error is  0.1187074 \n",
      "\n",
      "i  2  depth  1  ntree  250  shrinkage  0.05 \n",
      "Iter   TrainDeviance   ValidDeviance   StepSize   Improve\n",
      "     1 5416243108.2463             nan     0.0500 271926038.1938\n",
      "     2 5154663295.5646             nan     0.0500 236542422.1153\n",
      "     3 4941278797.5157             nan     0.0500 211728621.0335\n",
      "     4 4733708053.6488             nan     0.0500 211235185.6029\n",
      "     5 4568396571.0222             nan     0.0500 167811877.5975\n",
      "     6 4387121129.5389             nan     0.0500 168695080.3784\n",
      "     7 4232114508.4550             nan     0.0500 152373435.8923\n",
      "     8 4066538086.8041             nan     0.0500 157262492.0529\n",
      "     9 3925996409.8908             nan     0.0500 135936392.0328\n",
      "    10 3796621549.3439             nan     0.0500 111362592.4037\n",
      "    20 2830105485.4591             nan     0.0500 70631309.5250\n",
      "    40 1782420163.3991             nan     0.0500 34069534.4369\n",
      "    60 1252294597.5361             nan     0.0500 16285864.1485\n",
      "    80 982811876.2147             nan     0.0500 2481742.3500\n",
      "   100 814667897.1867             nan     0.0500 4317239.9631\n",
      "   120 706113051.8418             nan     0.0500 84399.5237\n",
      "   140 632150412.4080             nan     0.0500 1379951.8442\n",
      "   160 582380880.8594             nan     0.0500 889085.9811\n",
      "   180 542225137.1318             nan     0.0500 960534.7285\n",
      "   200 512235327.1442             nan     0.0500 417069.1727\n",
      "   220 490220019.4011             nan     0.0500 325646.0136\n",
      "   240 472133183.9211             nan     0.0500 421371.2145\n",
      "   250 464782143.2423             nan     0.0500 213110.2650\n",
      "\n"
     ]
    },
    {
     "name": "stderr",
     "output_type": "stream",
     "text": [
      "Using 250 trees...\n",
      "\n"
     ]
    },
    {
     "name": "stdout",
     "output_type": "stream",
     "text": [
      "error is  0.1401307 \n",
      "\n",
      "i  3  depth  2  ntree  200  shrinkage  0.5 \n",
      "Iter   TrainDeviance   ValidDeviance   StepSize   Improve\n",
      "     1 3153248563.4312             nan     0.5000 2407143124.7536\n",
      "     2 2176599132.5036             nan     0.5000 1077213463.8049\n",
      "     3 1570413498.1597             nan     0.5000 548101542.9928\n",
      "     4 1281357585.8892             nan     0.5000 289345659.0275\n",
      "     5 1068381006.1741             nan     0.5000 147390541.8223\n",
      "     6 958153792.2214             nan     0.5000 78631950.3231\n",
      "     7 885422130.2063             nan     0.5000 58589399.2776\n",
      "     8 834251376.0734             nan     0.5000 15454464.2980\n",
      "     9 795630243.4156             nan     0.5000 25414282.7128\n",
      "    10 760007305.7022             nan     0.5000 3438476.4546\n",
      "    20 563531425.8132             nan     0.5000 10245214.1900\n",
      "    40 400139951.0554             nan     0.5000 -7520697.5212\n",
      "    60 340289152.4576             nan     0.5000 -7264196.7047\n",
      "    80 293499661.4087             nan     0.5000 -1762613.2314\n",
      "   100 261579152.5052             nan     0.5000 -2764417.1597\n",
      "   120 237590619.4014             nan     0.5000 -4343401.9534\n",
      "   140 217563004.3797             nan     0.5000 -1201881.6195\n",
      "   160 199591074.6716             nan     0.5000 -4318300.1956\n",
      "   180 188306066.6885             nan     0.5000 -4859602.8755\n",
      "   200 176444330.1626             nan     0.5000 -6993486.4701\n",
      "\n"
     ]
    },
    {
     "name": "stderr",
     "output_type": "stream",
     "text": [
      "Using 200 trees...\n",
      "\n"
     ]
    },
    {
     "name": "stdout",
     "output_type": "stream",
     "text": [
      "error is  0.133621 \n",
      "\n",
      "i  4  depth  2  ntree  200  shrinkage  0.05 \n",
      "Iter   TrainDeviance   ValidDeviance   StepSize   Improve\n",
      "     1 5346916931.7537             nan     0.0500 310082238.3076\n",
      "     2 5042142652.8487             nan     0.0500 290264587.2172\n",
      "     3 4760842930.7912             nan     0.0500 283167524.9291\n",
      "     4 4514804548.0053             nan     0.0500 248365743.4975\n",
      "     5 4285175373.1392             nan     0.0500 236773023.8027\n",
      "     6 4070281406.5751             nan     0.0500 225858468.0991\n",
      "     7 3872621309.3740             nan     0.0500 203372931.7853\n",
      "     8 3678657355.3815             nan     0.0500 179658344.2278\n",
      "     9 3497871215.3325             nan     0.0500 168244610.6222\n",
      "    10 3342575413.7805             nan     0.0500 152778571.5442\n",
      "    20 2227878741.8462             nan     0.0500 65938455.6051\n",
      "    40 1205444661.0276             nan     0.0500 27178320.4034\n",
      "    60 798670667.7945             nan     0.0500 14034086.8813\n",
      "    80 615095996.9167             nan     0.0500 4330792.0757\n",
      "   100 517957588.5146             nan     0.0500 2399434.9830\n",
      "   120 456872391.7803             nan     0.0500 391016.4842\n",
      "   140 414813619.3063             nan     0.0500 433859.7203\n",
      "   160 390331439.3159             nan     0.0500 568581.3020\n",
      "   180 371993431.8943             nan     0.0500 -166367.4448\n",
      "   200 355670078.2087             nan     0.0500 -897805.6036\n",
      "\n"
     ]
    },
    {
     "name": "stderr",
     "output_type": "stream",
     "text": [
      "Using 200 trees...\n",
      "\n"
     ]
    },
    {
     "name": "stdout",
     "output_type": "stream",
     "text": [
      "error is  0.1280141 \n",
      "\n",
      "i  5  depth  4  ntree  100  shrinkage  1 \n",
      "Iter   TrainDeviance   ValidDeviance   StepSize   Improve\n",
      "     1 1811812473.3816             nan     1.0000 3164244416.0857\n",
      "     2 1309129808.3293             nan     1.0000 405813228.0800\n",
      "     3 1155097609.2210             nan     1.0000 17597986.6745\n",
      "     4 1007936232.2125             nan     1.0000 28072456.6671\n",
      "     5 927259415.7862             nan     1.0000 29210539.7908\n",
      "     6 872400567.2534             nan     1.0000 25917383.9626\n",
      "     7 793788692.7618             nan     1.0000 36583095.3118\n",
      "     8 760877391.7945             nan     1.0000 -16109201.1518\n",
      "     9 734412714.3101             nan     1.0000 -20069486.4877\n",
      "    10 740449972.2903             nan     1.0000 -97404028.3464\n",
      "    20 620510892.6545             nan     1.0000 -39602135.6770\n",
      "    40 501262753.4029             nan     1.0000 -21269295.3307\n",
      "    60 425415102.1819             nan     1.0000 -38774102.0930\n",
      "    80 414540415.2896             nan     1.0000 -37870896.9391\n",
      "   100 344934740.1700             nan     1.0000 -7220892.5593\n",
      "\n"
     ]
    },
    {
     "name": "stderr",
     "output_type": "stream",
     "text": [
      "Using 100 trees...\n",
      "\n"
     ]
    },
    {
     "name": "stdout",
     "output_type": "stream",
     "text": [
      "error is  0.2731356 \n",
      "\n",
      "i  6  depth  5  ntree  100  shrinkage  0.5 \n",
      "Iter   TrainDeviance   ValidDeviance   StepSize   Improve\n",
      "     1 2752403371.5883             nan     0.5000 2897057075.4983\n",
      "     2 1526566054.0081             nan     0.5000 1219182151.2681\n",
      "     3 1012053390.1318             nan     0.5000 373838808.0382\n",
      "     4 772415646.2409             nan     0.5000 190749375.2005\n",
      "     5 669428744.4518             nan     0.5000 72452723.2251\n",
      "     6 614078164.1958             nan     0.5000 18662350.7716\n",
      "     7 560916049.9882             nan     0.5000 7386440.1237\n",
      "     8 529863102.6622             nan     0.5000 8408878.6854\n",
      "     9 507724072.8968             nan     0.5000 -7318175.4174\n",
      "    10 482732941.6066             nan     0.5000 2348419.5898\n",
      "    20 360699794.4210             nan     0.5000 -9736014.7528\n",
      "    40 259426845.7900             nan     0.5000 -9083913.6173\n",
      "    60 194063421.5590             nan     0.5000 -6305350.8547\n",
      "    80 152595345.6860             nan     0.5000 -6932015.6757\n",
      "   100 123220414.4765             nan     0.5000 -6097688.3033\n",
      "\n"
     ]
    },
    {
     "name": "stderr",
     "output_type": "stream",
     "text": [
      "Using 100 trees...\n",
      "\n"
     ]
    },
    {
     "name": "stdout",
     "output_type": "stream",
     "text": [
      "error is  0.147257 \n",
      "\n",
      "i  7  depth  3  ntree  200  shrinkage  0.05 \n",
      "Iter   TrainDeviance   ValidDeviance   StepSize   Improve\n",
      "     1 5346310262.2420             nan     0.0500 354247579.7894\n",
      "     2 5019013805.8578             nan     0.0500 310979357.9679\n",
      "     3 4706192048.7739             nan     0.0500 291477362.6471\n",
      "     4 4447816260.4744             nan     0.0500 259629933.3384\n",
      "     5 4189919248.9344             nan     0.0500 232607928.6299\n",
      "     6 3942801584.3319             nan     0.0500 241660727.8440\n",
      "     7 3712007127.1476             nan     0.0500 216545194.4763\n",
      "     8 3512301589.0080             nan     0.0500 187720945.4818\n",
      "     9 3322371647.2523             nan     0.0500 159163327.8908\n",
      "    10 3144753410.5872             nan     0.0500 164514051.7884\n",
      "    20 1949821213.4347             nan     0.0500 76184798.4362\n",
      "    40 962041668.1583             nan     0.0500 21443964.7265\n",
      "    60 628554591.8386             nan     0.0500 7620340.5427\n",
      "    80 484169664.0311             nan     0.0500 3478894.8208\n",
      "   100 410584994.5363             nan     0.0500 2796604.0280\n",
      "   120 369103716.8995             nan     0.0500 1055236.5863\n",
      "   140 339510690.8733             nan     0.0500 -374996.0751\n",
      "   160 318977800.2290             nan     0.0500 -33591.1389\n",
      "   180 302763506.0969             nan     0.0500 -159683.0353\n",
      "   200 288173976.7289             nan     0.0500 -551552.4517\n",
      "\n"
     ]
    },
    {
     "name": "stderr",
     "output_type": "stream",
     "text": [
      "Using 200 trees...\n",
      "\n"
     ]
    },
    {
     "name": "stdout",
     "output_type": "stream",
     "text": [
      "error is  0.1251676 \n",
      "\n",
      "i  8  depth  2  ntree  100  shrinkage  0.05 \n",
      "Iter   TrainDeviance   ValidDeviance   StepSize   Improve\n",
      "     1 5353110254.5992             nan     0.0500 331436438.5470\n",
      "     2 5047661946.1957             nan     0.0500 309745265.8659\n",
      "     3 4763392260.8783             nan     0.0500 274741816.8680\n",
      "     4 4515478497.8844             nan     0.0500 241481306.6971\n",
      "     5 4305548433.8471             nan     0.0500 223255482.1870\n",
      "     6 4091044570.6298             nan     0.0500 217778389.3816\n",
      "     7 3888082660.1095             nan     0.0500 187650137.1805\n",
      "     8 3722788374.6783             nan     0.0500 181821733.9003\n",
      "     9 3544374138.2836             nan     0.0500 161933806.7470\n",
      "    10 3381440832.1855             nan     0.0500 143087939.3366\n",
      "    20 2262549621.7613             nan     0.0500 75344680.1731\n",
      "    40 1233264338.2476             nan     0.0500 16215457.1109\n",
      "    60 830632243.5021             nan     0.0500 6078006.6477\n",
      "    80 635015288.2655             nan     0.0500 2514755.8692\n",
      "   100 530553095.3104             nan     0.0500 3827701.6497\n",
      "\n"
     ]
    },
    {
     "name": "stderr",
     "output_type": "stream",
     "text": [
      "Using 100 trees...\n",
      "\n"
     ]
    },
    {
     "name": "stdout",
     "output_type": "stream",
     "text": [
      "error is  0.1504781 \n",
      "\n",
      "i  9  depth  3  ntree  150  shrinkage  0.5 \n",
      "Iter   TrainDeviance   ValidDeviance   StepSize   Improve\n",
      "     1 2961736515.7445             nan     0.5000 2605661198.1818\n",
      "     2 1826251649.4852             nan     0.5000 1076222459.0753\n",
      "     3 1254723555.2398             nan     0.5000 499753772.0971\n",
      "     4 1005021427.7463             nan     0.5000 202000238.4588\n",
      "     5 836380731.1377             nan     0.5000 95378891.9631\n",
      "     6 775331902.0529             nan     0.5000 25408769.6398\n",
      "     7 736819475.5617             nan     0.5000 8148789.8501\n",
      "     8 696493061.2890             nan     0.5000 11117377.1059\n",
      "     9 669633027.2370             nan     0.5000 2227229.2399\n",
      "    10 632803013.9339             nan     0.5000 16903611.8310\n",
      "    20 460712973.5578             nan     0.5000 -6426311.2926\n",
      "    40 344957106.7297             nan     0.5000 -13125315.7513\n",
      "    60 283627468.5156             nan     0.5000 -9507603.5544\n",
      "    80 231901480.3096             nan     0.5000 -5402518.2858\n",
      "   100 201239112.8221             nan     0.5000 -8523701.5091\n",
      "   120 169136774.8078             nan     0.5000 -3545513.3247\n",
      "   140 148870105.2583             nan     0.5000 -3761907.1588\n",
      "   150 142806043.7515             nan     0.5000 -4326957.3458\n",
      "\n"
     ]
    },
    {
     "name": "stderr",
     "output_type": "stream",
     "text": [
      "Using 150 trees...\n",
      "\n"
     ]
    },
    {
     "name": "stdout",
     "output_type": "stream",
     "text": [
      "error is  0.1491828 \n",
      "\n",
      "i  10  depth  3  ntree  300  shrinkage  0.05 \n",
      "Iter   TrainDeviance   ValidDeviance   StepSize   Improve\n",
      "     1 5321592658.9045             nan     0.0500 341240495.3827\n",
      "     2 4965048962.6352             nan     0.0500 331534650.8225\n",
      "     3 4667859003.0404             nan     0.0500 268144498.9520\n",
      "     4 4383738670.3688             nan     0.0500 258951580.8248\n",
      "     5 4145971397.2985             nan     0.0500 230421956.7527\n",
      "     6 3905967782.4155             nan     0.0500 229866199.7815\n",
      "     7 3686196813.3337             nan     0.0500 191958607.5181\n",
      "     8 3468571002.2874             nan     0.0500 220283814.3091\n",
      "     9 3284706507.5081             nan     0.0500 179431638.2379\n",
      "    10 3136168139.0190             nan     0.0500 157602658.9400\n",
      "    20 1945144934.8721             nan     0.0500 76627314.9996\n",
      "    40 975614492.3327             nan     0.0500 19022909.2627\n",
      "    60 628469041.2656             nan     0.0500 7914260.1265\n",
      "    80 478386116.9992             nan     0.0500 2252418.2038\n",
      "   100 405457325.7636             nan     0.0500 -95811.2498\n",
      "   120 362888402.8924             nan     0.0500 876792.6761\n",
      "   140 337551360.5353             nan     0.0500 -95371.2087\n",
      "   160 318007665.8711             nan     0.0500 50777.7175\n",
      "   180 301344160.6087             nan     0.0500 -287829.6643\n",
      "   200 285194077.8626             nan     0.0500 -683947.5348\n",
      "   220 272184566.9277             nan     0.0500 -560939.3750\n",
      "   240 262541164.3076             nan     0.0500 -1223353.2429\n",
      "   260 253359690.2451             nan     0.0500 27368.2551\n",
      "   280 244019228.4467             nan     0.0500 -444774.0522\n",
      "   300 235917336.8084             nan     0.0500 -417456.5146\n",
      "\n"
     ]
    },
    {
     "name": "stderr",
     "output_type": "stream",
     "text": [
      "Using 300 trees...\n",
      "\n"
     ]
    },
    {
     "name": "stdout",
     "output_type": "stream",
     "text": [
      "error is  0.1211687 \n",
      "\n",
      "i  11  depth  5  ntree  300  shrinkage  0.5 \n",
      "Iter   TrainDeviance   ValidDeviance   StepSize   Improve\n",
      "     1 2701161498.6766             nan     0.5000 2544262904.6132\n",
      "     2 1496206525.7857             nan     0.5000 1021988248.8503\n",
      "     3 1026536975.8446             nan     0.5000 360162422.2982\n",
      "     4 833362452.6990             nan     0.5000 153218656.9471\n",
      "     5 729726046.2896             nan     0.5000 50745046.6784\n",
      "     6 662386089.3334             nan     0.5000 29073193.8892\n",
      "     7 617243228.1357             nan     0.5000 3778365.4036\n",
      "     8 553361293.5979             nan     0.5000 21275290.2687\n",
      "     9 529113504.8269             nan     0.5000 -17774582.7993\n",
      "    10 514845466.5963             nan     0.5000 -19425190.7102\n",
      "    20 373047579.3559             nan     0.5000 -18225734.3277\n",
      "    40 260753845.6013             nan     0.5000 -10881062.2410\n",
      "    60 190053616.2921             nan     0.5000 -8654925.4888\n",
      "    80 150207720.1083             nan     0.5000 -5917257.2898\n",
      "   100 115543777.8918             nan     0.5000 -2575562.3603\n",
      "   120 96692222.1601             nan     0.5000 -5126394.9660\n",
      "   140 78331766.5667             nan     0.5000 -2614763.7696\n",
      "   160 63911195.9251             nan     0.5000 -967567.9751\n",
      "   180 54160009.3505             nan     0.5000 -1569558.7161\n",
      "   200 44316546.7335             nan     0.5000 -968392.5773\n",
      "   220 38694880.3402             nan     0.5000 -1145474.9341\n",
      "   240 32765095.6161             nan     0.5000 -1024683.3714\n",
      "   260 27825630.9066             nan     0.5000 -1153143.9395\n",
      "   280 24532859.6655             nan     0.5000 -1163139.1412\n",
      "   300 21116967.9735             nan     0.5000 -1267152.5179\n",
      "\n"
     ]
    },
    {
     "name": "stderr",
     "output_type": "stream",
     "text": [
      "Using 300 trees...\n",
      "\n"
     ]
    },
    {
     "name": "stdout",
     "output_type": "stream",
     "text": [
      "error is  0.165108 \n",
      "\n",
      "i  12  depth  3  ntree  250  shrinkage  0.001 \n",
      "Iter   TrainDeviance   ValidDeviance   StepSize   Improve\n",
      "     1 5681426490.8855             nan     0.0010 7467821.6473\n",
      "     2 5674073832.9726             nan     0.0010 6735943.1380\n",
      "     3 5667348058.1794             nan     0.0010 6298196.2740\n",
      "     4 5659879053.0521             nan     0.0010 7447082.3364\n",
      "     5 5652905618.7234             nan     0.0010 7270509.6575\n",
      "     6 5645726256.8678             nan     0.0010 7014582.1007\n",
      "     7 5639004409.9370             nan     0.0010 6243188.8392\n",
      "     8 5631677632.5617             nan     0.0010 6983213.7892\n",
      "     9 5624735857.5581             nan     0.0010 7290358.1535\n",
      "    10 5617448834.3230             nan     0.0010 7479375.9854\n",
      "    20 5546799194.3982             nan     0.0010 7124015.7562\n",
      "    40 5406858440.5217             nan     0.0010 7257195.2972\n",
      "    60 5271385662.8269             nan     0.0010 6142068.7328\n",
      "    80 5142090539.2998             nan     0.0010 5977751.6072\n",
      "   100 5015460973.9869             nan     0.0010 6442206.8348\n",
      "   120 4892731642.4601             nan     0.0010 6374921.1731\n",
      "   140 4773808205.0179             nan     0.0010 5457360.0089\n",
      "   160 4657573998.2624             nan     0.0010 5397258.0793\n",
      "   180 4547706736.7503             nan     0.0010 5683779.5526\n",
      "   200 4441830926.3856             nan     0.0010 5138133.8920\n",
      "   220 4338334978.9471             nan     0.0010 4270668.6513\n",
      "   240 4237394226.0754             nan     0.0010 4486507.6965\n",
      "   250 4188450929.5922             nan     0.0010 4437172.5205\n",
      "\n"
     ]
    },
    {
     "name": "stderr",
     "output_type": "stream",
     "text": [
      "Using 250 trees...\n",
      "\n"
     ]
    },
    {
     "name": "stdout",
     "output_type": "stream",
     "text": [
      "error is  0.3314533 \n",
      "\n",
      "i  13  depth  5  ntree  100  shrinkage  0.5 \n",
      "Iter   TrainDeviance   ValidDeviance   StepSize   Improve\n",
      "     1 2655259596.0181             nan     0.5000 2885669478.5112\n",
      "     2 1546427947.7753             nan     0.5000 1031564671.9625\n",
      "     3 1064965010.0108             nan     0.5000 358659828.6535\n",
      "     4 861684067.8258             nan     0.5000 135703035.6126\n",
      "     5 742973083.7816             nan     0.5000 51121130.7429\n",
      "     6 678571277.4196             nan     0.5000 23852857.0824\n",
      "     7 624105222.0189             nan     0.5000 23697631.6461\n",
      "     8 583364397.9321             nan     0.5000 22853617.7241\n",
      "     9 548899396.5607             nan     0.5000 -10929569.2610\n",
      "    10 528635934.9139             nan     0.5000 -21489280.3871\n",
      "    20 383944405.8197             nan     0.5000 -14240422.5358\n",
      "    40 248181842.6773             nan     0.5000 -11871507.3046\n",
      "    60 186696196.4380             nan     0.5000 -5595639.2752\n",
      "    80 141573524.9221             nan     0.5000 -4168631.3175\n",
      "   100 112517591.0621             nan     0.5000 -4576635.2440\n",
      "\n"
     ]
    },
    {
     "name": "stderr",
     "output_type": "stream",
     "text": [
      "Using 100 trees...\n",
      "\n"
     ]
    },
    {
     "name": "stdout",
     "output_type": "stream",
     "text": [
      "error is  0.1420628 \n",
      "\n",
      "i  14  depth  5  ntree  100  shrinkage  1 \n",
      "Iter   TrainDeviance   ValidDeviance   StepSize   Improve\n",
      "     1 1697022990.0072             nan     1.0000 4399307383.1706\n",
      "     2 1239383852.1586             nan     1.0000 372618029.9627\n",
      "     3 1124153751.9259             nan     1.0000 -19034379.9208\n",
      "     4 1058379492.7113             nan     1.0000 -100845517.0895\n",
      "     5 998682998.2718             nan     1.0000 -59419038.9561\n",
      "     6 951720067.5610             nan     1.0000 -76539597.6896\n",
      "     7 910742876.4365             nan     1.0000 -61731939.7984\n",
      "     8 851685000.7865             nan     1.0000 -76441280.8675\n",
      "     9 835674448.6724             nan     1.0000 -102962522.1785\n",
      "    10 846257750.3844             nan     1.0000 -133896592.7250\n",
      "    20 733475872.2152             nan     1.0000 -54275696.7702\n",
      "    40 595459673.9610             nan     1.0000 -43648194.7273\n",
      "    60 495527081.8847             nan     1.0000 -9441013.6524\n",
      "    80 465433255.5284             nan     1.0000 -66877189.3312\n",
      "   100 402277122.6057             nan     1.0000 -41572115.1270\n",
      "\n"
     ]
    },
    {
     "name": "stderr",
     "output_type": "stream",
     "text": [
      "Using 100 trees...\n",
      "\n"
     ]
    },
    {
     "name": "stdout",
     "output_type": "stream",
     "text": [
      "error is  0.3693065 \n",
      "\n",
      "i  15  depth  3  ntree  300  shrinkage  0.05 \n",
      "Iter   TrainDeviance   ValidDeviance   StepSize   Improve\n",
      "     1 5342503140.8279             nan     0.0500 334900686.5715\n",
      "     2 5004214744.2719             nan     0.0500 306297163.4867\n",
      "     3 4685067385.0037             nan     0.0500 277781992.4576\n",
      "     4 4402136480.3861             nan     0.0500 262759771.6096\n",
      "     5 4140773857.2905             nan     0.0500 254559945.6015\n",
      "     6 3897526091.7055             nan     0.0500 242648675.7590\n",
      "     7 3684554524.2233             nan     0.0500 204768642.9832\n",
      "     8 3485740051.8812             nan     0.0500 196507968.9080\n",
      "     9 3311990572.4749             nan     0.0500 173881060.4943\n",
      "    10 3145436785.9423             nan     0.0500 164825138.0815\n",
      "    20 1970856471.2719             nan     0.0500 92503956.2000\n",
      "    40 992018789.8669             nan     0.0500 21903932.1255\n",
      "    60 643933034.1462             nan     0.0500 8168924.5966\n",
      "    80 493876915.7070             nan     0.0500 2838280.8119\n",
      "   100 414818830.5451             nan     0.0500 1278289.3064\n",
      "   120 372259251.2881             nan     0.0500 -1229572.7310\n",
      "   140 341555194.6764             nan     0.0500 372613.0637\n",
      "   160 320546773.0311             nan     0.0500 -84918.9762\n",
      "   180 303959139.0160             nan     0.0500 -1286.9154\n",
      "   200 288789976.3107             nan     0.0500 -448404.1093\n",
      "   220 275296078.0100             nan     0.0500 -505102.5483\n",
      "   240 263339889.7593             nan     0.0500 -761364.4388\n",
      "   260 252864321.2488             nan     0.0500 -758821.5157\n",
      "   280 244897317.3499             nan     0.0500 -842590.5465\n",
      "   300 235160075.6815             nan     0.0500 -622319.3721\n",
      "\n"
     ]
    },
    {
     "name": "stderr",
     "output_type": "stream",
     "text": [
      "Using 300 trees...\n",
      "\n"
     ]
    },
    {
     "name": "stdout",
     "output_type": "stream",
     "text": [
      "error is  0.1171124 \n",
      "\n",
      "i  16  depth  2  ntree  300  shrinkage  0.01 \n",
      "Iter   TrainDeviance   ValidDeviance   StepSize   Improve\n",
      "     1 5620197042.4074             nan     0.0100 66580162.5998\n",
      "     2 5551578262.7824             nan     0.0100 64991431.6733\n",
      "     3 5484498829.9219             nan     0.0100 59483929.2142\n",
      "     4 5422447025.9967             nan     0.0100 59804744.9863\n",
      "     5 5361443454.1315             nan     0.0100 60358537.5615\n",
      "     6 5303093054.8821             nan     0.0100 52926948.5111\n",
      "     7 5243679507.4716             nan     0.0100 58290157.7946\n",
      "     8 5182576882.6321             nan     0.0100 58130497.7317\n",
      "     9 5125582987.2233             nan     0.0100 55928377.7289\n",
      "    10 5071419843.9277             nan     0.0100 57745115.7222\n",
      "    20 4541260820.9037             nan     0.0100 47854891.0019\n",
      "    40 3704641979.5926             nan     0.0100 36087607.2106\n",
      "    60 3091573921.1122             nan     0.0100 26563551.7418\n",
      "    80 2619997938.7551             nan     0.0100 19491063.3422\n",
      "   100 2241841503.3460             nan     0.0100 14543635.0782\n",
      "   120 1948410054.6126             nan     0.0100 14190317.5622\n",
      "   140 1702368924.5595             nan     0.0100 10232370.2576\n",
      "   160 1503306539.5334             nan     0.0100 7744214.1724\n",
      "   180 1342587079.3082             nan     0.0100 4886263.2225\n",
      "   200 1208431797.2054             nan     0.0100 2838772.1003\n",
      "   220 1098893268.2516             nan     0.0100 4612681.9111\n",
      "   240 1003369087.5927             nan     0.0100 3436425.8256\n",
      "   260 923524492.6460             nan     0.0100 3340757.3660\n",
      "   280 858653998.4868             nan     0.0100 2981573.5734\n",
      "   300 803393837.4899             nan     0.0100 1444246.3172\n",
      "\n"
     ]
    },
    {
     "name": "stderr",
     "output_type": "stream",
     "text": [
      "Using 300 trees...\n",
      "\n"
     ]
    },
    {
     "name": "stdout",
     "output_type": "stream",
     "text": [
      "error is  0.173994 \n",
      "\n",
      "i  17  depth  3  ntree  250  shrinkage  0.05 \n",
      "Iter   TrainDeviance   ValidDeviance   StepSize   Improve\n",
      "     1 5330327226.3537             nan     0.0500 343240674.4527\n",
      "     2 5025537879.7757             nan     0.0500 319736551.3970\n",
      "     3 4721677710.3176             nan     0.0500 282148024.1561\n",
      "     4 4427767630.5173             nan     0.0500 262713576.3119\n",
      "     5 4152599344.6248             nan     0.0500 236972696.7963\n",
      "     6 3920255323.3521             nan     0.0500 232911184.4965\n",
      "     7 3698388043.1928             nan     0.0500 225554645.8411\n",
      "     8 3506495711.9664             nan     0.0500 191664376.5966\n",
      "     9 3318989511.2328             nan     0.0500 192100666.8410\n",
      "    10 3142339830.4485             nan     0.0500 167619385.2833\n",
      "    20 1941519750.8026             nan     0.0500 79776140.0279\n",
      "    40 977627430.0392             nan     0.0500 22040189.8052\n",
      "    60 634565409.6571             nan     0.0500 8183153.9312\n",
      "    80 485268881.0550             nan     0.0500 3350326.9065\n",
      "   100 409845605.6152             nan     0.0500 668029.8244\n",
      "   120 368299623.0407             nan     0.0500 -1624373.6094\n",
      "   140 338807395.5413             nan     0.0500 389246.3800\n",
      "   160 316967926.0780             nan     0.0500 -1321275.7071\n",
      "   180 299758738.8190             nan     0.0500 -250998.7775\n",
      "   200 285243506.5222             nan     0.0500 -361436.5482\n",
      "   220 272761073.4322             nan     0.0500 -26187.9669\n",
      "   240 262663599.5921             nan     0.0500 -311364.6880\n",
      "   250 259447165.8857             nan     0.0500 -1304552.1975\n",
      "\n"
     ]
    },
    {
     "name": "stderr",
     "output_type": "stream",
     "text": [
      "Using 250 trees...\n",
      "\n"
     ]
    },
    {
     "name": "stdout",
     "output_type": "stream",
     "text": [
      "error is  0.1239401 \n",
      "\n",
      "i  18  depth  5  ntree  100  shrinkage  0.001 \n",
      "Iter   TrainDeviance   ValidDeviance   StepSize   Improve\n",
      "     1 5681267564.6386             nan     0.0010 7197047.2777\n",
      "     2 5673049039.4619             nan     0.0010 7851032.8920\n",
      "     3 5664986105.6354             nan     0.0010 7720525.1268\n",
      "     4 5657403180.8380             nan     0.0010 7831077.4650\n",
      "     5 5649160507.8433             nan     0.0010 8512490.8168\n",
      "     6 5641540327.3146             nan     0.0010 7857426.1342\n",
      "     7 5633243886.7137             nan     0.0010 8231432.2395\n",
      "     8 5625325121.6714             nan     0.0010 7117531.3334\n",
      "     9 5617576504.4808             nan     0.0010 7619987.9186\n",
      "    10 5609846939.6130             nan     0.0010 7768510.6638\n",
      "    20 5531309719.0900             nan     0.0010 7774048.5860\n",
      "    40 5378429898.7869             nan     0.0010 7091970.8734\n",
      "    60 5230325675.5739             nan     0.0010 7659939.4520\n",
      "    80 5087687535.9931             nan     0.0010 6873279.4738\n",
      "   100 4950174640.1087             nan     0.0010 6272601.6372\n",
      "\n"
     ]
    },
    {
     "name": "stderr",
     "output_type": "stream",
     "text": [
      "Using 100 trees...\n",
      "\n"
     ]
    },
    {
     "name": "stdout",
     "output_type": "stream",
     "text": [
      "error is  0.3566191 \n",
      "\n",
      "i  19  depth  3  ntree  250  shrinkage  0.5 \n",
      "Iter   TrainDeviance   ValidDeviance   StepSize   Improve\n",
      "     1 2840571120.8681             nan     0.5000 2493666298.4583\n",
      "     2 1729154254.9996             nan     0.5000 912989421.8622\n",
      "     3 1337859627.2031             nan     0.5000 368915919.1942\n",
      "     4 1097576708.0151             nan     0.5000 215297997.8931\n",
      "     5 942239494.7019             nan     0.5000 83206674.6904\n",
      "     6 849691425.7681             nan     0.5000 55938513.9404\n",
      "     7 794956966.6930             nan     0.5000 13363891.7253\n",
      "     8 727779089.6764             nan     0.5000 28269681.6409\n",
      "     9 694646438.8528             nan     0.5000 -3136449.9755\n",
      "    10 652231211.9783             nan     0.5000 19657695.1811\n",
      "    20 476820164.2375             nan     0.5000 8954630.2867\n",
      "    40 321377278.0303             nan     0.5000 -4838630.0007\n",
      "    60 267959260.2293             nan     0.5000 -13238974.1139\n",
      "    80 228095091.2499             nan     0.5000 -8221777.5152\n",
      "   100 201817822.6194             nan     0.5000 -4430410.4204\n",
      "   120 181162680.8545             nan     0.5000 -2412495.1050\n",
      "   140 158477990.5054             nan     0.5000 -3229705.3796\n",
      "   160 142479541.8551             nan     0.5000 -5005092.4072\n",
      "   180 130843587.5762             nan     0.5000 -1866136.9205\n",
      "   200 117943420.3342             nan     0.5000 -2880257.9549\n",
      "   220 102465145.6830             nan     0.5000 -1471991.0686\n",
      "   240 94809624.6583             nan     0.5000 -2571304.4758\n",
      "   250 90281048.6829             nan     0.5000 -2275220.5135\n",
      "\n"
     ]
    },
    {
     "name": "stderr",
     "output_type": "stream",
     "text": [
      "Using 250 trees...\n",
      "\n"
     ]
    },
    {
     "name": "stdout",
     "output_type": "stream",
     "text": [
      "error is  0.1376474 \n",
      "\n",
      "i  20  depth  3  ntree  250  shrinkage  0.5 \n",
      "Iter   TrainDeviance   ValidDeviance   StepSize   Improve\n",
      "     1 2942169498.6450             nan     0.5000 2459639587.5564\n",
      "     2 1831324480.1653             nan     0.5000 965635258.4001\n",
      "     3 1265970833.1133             nan     0.5000 496006626.6553\n",
      "     4 980718070.5136             nan     0.5000 288286165.0421\n",
      "     5 848878595.8943             nan     0.5000 90177037.4033\n",
      "     6 750051974.7489             nan     0.5000 63096301.7275\n",
      "     7 670355983.0528             nan     0.5000 45351439.8800\n",
      "     8 628498998.5828             nan     0.5000 10071560.7189\n",
      "     9 603638513.8845             nan     0.5000 2496075.9888\n",
      "    10 580192021.4495             nan     0.5000 2658240.4897\n",
      "    20 432113703.7729             nan     0.5000 -13382476.3942\n",
      "    40 325559753.6876             nan     0.5000 -9777029.2539\n",
      "    60 267927722.3798             nan     0.5000 -9707850.9353\n",
      "    80 224570802.0231             nan     0.5000 -6288496.4992\n",
      "   100 197117616.1276             nan     0.5000 -6688617.6481\n",
      "   120 171068834.6942             nan     0.5000 -2195300.4544\n",
      "   140 151827539.2260             nan     0.5000 -4348395.8070\n",
      "   160 134125723.4700             nan     0.5000 -3159863.4872\n",
      "   180 119173083.8384             nan     0.5000 -2465938.3472\n",
      "   200 107878504.9283             nan     0.5000 -2740519.4116\n",
      "   220 97551651.5425             nan     0.5000 -4213164.6914\n",
      "   240 89597112.0164             nan     0.5000 -3024377.9083\n",
      "   250 85703965.2324             nan     0.5000 -1705309.1685\n",
      "\n"
     ]
    },
    {
     "name": "stderr",
     "output_type": "stream",
     "text": [
      "Using 250 trees...\n",
      "\n"
     ]
    },
    {
     "name": "stdout",
     "output_type": "stream",
     "text": [
      "error is  0.147777 \n",
      "\n",
      "i  21  depth  4  ntree  150  shrinkage  0.05 \n",
      "Iter   TrainDeviance   ValidDeviance   StepSize   Improve\n",
      "     1 5300677103.5317             nan     0.0500 359568081.6175\n",
      "     2 4959490028.2516             nan     0.0500 331782216.8899\n",
      "     3 4634266088.1101             nan     0.0500 268760244.0815\n",
      "     4 4330884623.5167             nan     0.0500 287648300.4591\n",
      "     5 4067458572.8311             nan     0.0500 238417902.2905\n",
      "     6 3816513714.8826             nan     0.0500 230298813.9763\n",
      "     7 3591338886.3027             nan     0.0500 230631798.1822\n",
      "     8 3393341188.8037             nan     0.0500 191514447.6960\n",
      "     9 3188284689.5868             nan     0.0500 180830820.9083\n",
      "    10 2999280980.6194             nan     0.0500 182931674.5483\n",
      "    20 1787850326.0556             nan     0.0500 89736541.9701\n",
      "    40 843939923.9907             nan     0.0500 23754585.5839\n",
      "    60 534100878.8982             nan     0.0500 6110886.9481\n",
      "    80 410801790.8711             nan     0.0500 936730.4265\n",
      "   100 350850405.8004             nan     0.0500 696806.4904\n",
      "   120 314332497.6224             nan     0.0500 719825.2413\n",
      "   140 288251281.3548             nan     0.0500 -1080855.8713\n",
      "   150 276952688.9019             nan     0.0500 -795267.9747\n",
      "\n"
     ]
    },
    {
     "name": "stderr",
     "output_type": "stream",
     "text": [
      "Using 150 trees...\n",
      "\n"
     ]
    },
    {
     "name": "stdout",
     "output_type": "stream",
     "text": [
      "error is  0.1235895 \n",
      "\n",
      "i  22  depth  4  ntree  300  shrinkage  0.01 \n",
      "Iter   TrainDeviance   ValidDeviance   StepSize   Improve\n",
      "     1 5609837866.3044             nan     0.0100 75194097.6597\n",
      "     2 5531962118.0125             nan     0.0100 74500598.9352\n",
      "     3 5458066270.2878             nan     0.0100 83606788.9600\n",
      "     4 5383158758.6908             nan     0.0100 70060264.7568\n",
      "     5 5308420743.2801             nan     0.0100 69378350.9828\n",
      "     6 5240388970.2811             nan     0.0100 65636785.5080\n",
      "     7 5172055259.8280             nan     0.0100 63212005.8458\n",
      "     8 5107334235.3406             nan     0.0100 61218442.7355\n",
      "     9 5040702531.3921             nan     0.0100 63295269.4933\n",
      "    10 4971427910.5012             nan     0.0100 72747959.8358\n",
      "    20 4363659735.6109             nan     0.0100 56155919.1487\n",
      "    40 3411410338.1735             nan     0.0100 39756513.2846\n",
      "    60 2723287579.1861             nan     0.0100 32075674.7271\n",
      "    80 2202459495.3355             nan     0.0100 20515512.9470\n",
      "   100 1817227969.1286             nan     0.0100 13983096.4724\n",
      "   120 1513162030.3922             nan     0.0100 10011497.0032\n",
      "   140 1278820529.1028             nan     0.0100 8685210.8651\n",
      "   160 1099535265.7589             nan     0.0100 5731589.5947\n",
      "   180 963026860.9958             nan     0.0100 5305002.2505\n",
      "   200 852462276.4755             nan     0.0100 4848452.4824\n",
      "   220 762517174.6083             nan     0.0100 3240143.8864\n",
      "   240 691533111.8709             nan     0.0100 1949729.2594\n",
      "   260 629286625.9916             nan     0.0100 2967325.3393\n",
      "   280 579740247.0495             nan     0.0100 1994289.6027\n",
      "   300 538358332.3656             nan     0.0100 1268375.3827\n",
      "\n"
     ]
    },
    {
     "name": "stderr",
     "output_type": "stream",
     "text": [
      "Using 300 trees...\n",
      "\n"
     ]
    },
    {
     "name": "stdout",
     "output_type": "stream",
     "text": [
      "error is  0.150526 \n",
      "\n",
      "i  23  depth  1  ntree  100  shrinkage  0.5 \n",
      "Iter   TrainDeviance   ValidDeviance   StepSize   Improve\n",
      "     1 3721338706.1228             nan     0.5000 1940826306.2840\n",
      "     2 2712912992.1086             nan     0.5000 1073422954.4437\n",
      "     3 2217736566.3461             nan     0.5000 475305670.9905\n",
      "     4 1914889894.3640             nan     0.5000 158314231.3618\n",
      "     5 1622475527.8090             nan     0.5000 239671029.5871\n",
      "     6 1409988336.5002             nan     0.5000 200428747.8461\n",
      "     7 1277830895.3755             nan     0.5000 128780630.4117\n",
      "     8 1189627690.8805             nan     0.5000 81526337.0981\n",
      "     9 1127108890.7347             nan     0.5000 55183574.3010\n",
      "    10 1068869898.8905             nan     0.5000 26818604.7731\n",
      "    20 812590158.6170             nan     0.5000 -28088747.1250\n",
      "    40 604672578.2883             nan     0.5000 4467973.2526\n",
      "    60 524787666.2582             nan     0.5000 -56593.5819\n",
      "    80 491265684.5897             nan     0.5000 -9325854.6419\n",
      "   100 448882133.1470             nan     0.5000 -6291049.4813\n",
      "\n"
     ]
    },
    {
     "name": "stderr",
     "output_type": "stream",
     "text": [
      "Using 100 trees...\n",
      "\n"
     ]
    },
    {
     "name": "stdout",
     "output_type": "stream",
     "text": [
      "error is  0.1467999 \n",
      "\n",
      "i  24  depth  5  ntree  250  shrinkage  0.01 \n",
      "Iter   TrainDeviance   ValidDeviance   StepSize   Improve\n",
      "     1 5605089693.2549             nan     0.0100 78444553.2611\n",
      "     2 5530578352.0283             nan     0.0100 78669176.4751\n",
      "     3 5449860067.7470             nan     0.0100 79219187.2264\n",
      "     4 5370353887.2811             nan     0.0100 72672486.7123\n",
      "     5 5294842543.6065             nan     0.0100 76653326.2207\n",
      "     6 5220430506.6385             nan     0.0100 67755616.5352\n",
      "     7 5151423075.8007             nan     0.0100 71635755.7875\n",
      "     8 5078760857.6813             nan     0.0100 71777752.4887\n",
      "     9 5007131428.3118             nan     0.0100 65829426.3501\n",
      "    10 4939955725.2557             nan     0.0100 67114496.8213\n",
      "    20 4312585245.8430             nan     0.0100 56133731.9469\n",
      "    40 3324972813.0204             nan     0.0100 37975249.1342\n",
      "    60 2613205374.8804             nan     0.0100 27242744.0067\n",
      "    80 2095546082.7155             nan     0.0100 21945236.6785\n",
      "   100 1708512476.2998             nan     0.0100 14625325.3577\n",
      "   120 1410230387.0800             nan     0.0100 10832651.8841\n",
      "   140 1180170843.7704             nan     0.0100 9278398.3302\n",
      "   160 1004814808.5145             nan     0.0100 6847877.4915\n",
      "   180 868638943.9833             nan     0.0100 4858147.3346\n",
      "   200 763461591.1497             nan     0.0100 3534034.2524\n",
      "   220 681747429.3031             nan     0.0100 2636291.3323\n",
      "   240 613495561.8832             nan     0.0100 2276730.5497\n",
      "   250 584998541.7066             nan     0.0100 1984902.6958\n",
      "\n"
     ]
    },
    {
     "name": "stderr",
     "output_type": "stream",
     "text": [
      "Using 250 trees...\n",
      "\n"
     ]
    },
    {
     "name": "stdout",
     "output_type": "stream",
     "text": [
      "error is  0.1542253 \n",
      "\n",
      "i  25  depth  4  ntree  250  shrinkage  0.001 \n",
      "Iter   TrainDeviance   ValidDeviance   StepSize   Improve\n",
      "     1 5681507003.6666             nan     0.0010 6865944.5503\n",
      "     2 5673604224.8153             nan     0.0010 6586704.6796\n",
      "     3 5665860685.8225             nan     0.0010 7123561.1687\n",
      "     4 5657891511.4949             nan     0.0010 7190197.4986\n",
      "     5 5650198656.9031             nan     0.0010 7029625.5500\n",
      "     6 5642653289.8890             nan     0.0010 8105289.6821\n",
      "     7 5634865754.9732             nan     0.0010 6852792.0402\n",
      "     8 5627485803.4653             nan     0.0010 6997127.3790\n",
      "     9 5619451331.3899             nan     0.0010 8288020.2153\n",
      "    10 5611743722.5044             nan     0.0010 6973076.3169\n",
      "    20 5534976914.4852             nan     0.0010 7796466.3436\n",
      "    40 5386477076.8915             nan     0.0010 7210717.3829\n",
      "    60 5243581599.4856             nan     0.0010 6043765.1700\n",
      "    80 5105153653.9179             nan     0.0010 6763627.1719\n",
      "   100 4972334248.4214             nan     0.0010 6523990.9682\n",
      "   120 4842982194.7066             nan     0.0010 5894151.2024\n",
      "   140 4719579659.4803             nan     0.0010 5195367.0536\n",
      "   160 4597913605.4137             nan     0.0010 5030166.5499\n",
      "   180 4481538672.1844             nan     0.0010 5200229.4052\n",
      "   200 4368976686.3380             nan     0.0010 5324211.7758\n",
      "   220 4259768583.8736             nan     0.0010 4899852.0972\n",
      "   240 4154931901.2469             nan     0.0010 5219236.1707\n",
      "   250 4103041425.1450             nan     0.0010 5724929.0253\n",
      "\n"
     ]
    },
    {
     "name": "stderr",
     "output_type": "stream",
     "text": [
      "Using 250 trees...\n",
      "\n"
     ]
    },
    {
     "name": "stdout",
     "output_type": "stream",
     "text": [
      "error is  0.3268278 \n",
      "\n",
      "i  26  depth  2  ntree  200  shrinkage  1 \n",
      "Iter   TrainDeviance   ValidDeviance   StepSize   Improve\n",
      "     1 2366638036.3801             nan     1.0000 3556059790.6126\n",
      "     2 1745393478.8563             nan     1.0000 477211174.7299\n",
      "     3 1462928785.1321             nan     1.0000 217727750.8294\n",
      "     4 1299778161.8260             nan     1.0000 107912220.5310\n",
      "     5 1207062401.8270             nan     1.0000 22308486.3602\n",
      "     6 1132524388.6034             nan     1.0000 2270979.9394\n",
      "     7 1091009013.8668             nan     1.0000 -35278589.0932\n",
      "     8 1000341509.1636             nan     1.0000 47043866.7423\n",
      "     9 942041490.9088             nan     1.0000 14395266.5867\n",
      "    10 920734299.2366             nan     1.0000 -32863689.8852\n",
      "    20 675939616.4573             nan     1.0000 -16479621.0512\n",
      "    40 563568991.1123             nan     1.0000 -15345825.7418\n",
      "    60 480755032.8202             nan     1.0000 -15151205.4266\n",
      "    80 442415236.1961             nan     1.0000 -22811622.2681\n",
      "   100 398682343.5274             nan     1.0000 -18950664.2859\n",
      "   120 349288851.1394             nan     1.0000 -20095561.0012\n",
      "   140 335981469.3487             nan     1.0000 -29833330.3226\n",
      "   160 319051928.5004             nan     1.0000 4291196.1316\n",
      "   180 306687517.4126             nan     1.0000 -11939992.5802\n",
      "   200 281263589.6956             nan     1.0000 -7668132.7000\n",
      "\n"
     ]
    },
    {
     "name": "stderr",
     "output_type": "stream",
     "text": [
      "Using 200 trees...\n",
      "\n"
     ]
    },
    {
     "name": "stdout",
     "output_type": "stream",
     "text": [
      "error is  0.1799919 \n",
      "\n",
      "i  27  depth  3  ntree  250  shrinkage  0.1 \n",
      "Iter   TrainDeviance   ValidDeviance   StepSize   Improve\n",
      "     1 4947801711.5515             nan     0.1000 659112504.0906\n",
      "     2 4346387691.9314             nan     0.1000 549608156.6754\n",
      "     3 3876552650.7317             nan     0.1000 424474632.6851\n",
      "     4 3477759739.1692             nan     0.1000 372755241.7576\n",
      "     5 3127300307.1084             nan     0.1000 328982267.7061\n",
      "     6 2812508287.1417             nan     0.1000 304410435.8616\n",
      "     7 2578958360.7174             nan     0.1000 242710919.6146\n",
      "     8 2346466801.8491             nan     0.1000 207903542.5335\n",
      "     9 2137915282.5563             nan     0.1000 179636077.4208\n",
      "    10 1964321765.9465             nan     0.1000 165527975.8302\n",
      "    20 964185146.2258             nan     0.1000 52463126.8805\n",
      "    40 489568828.4266             nan     0.1000 6098681.3037\n",
      "    60 382765839.7746             nan     0.1000 -2600036.8941\n",
      "    80 336375547.9860             nan     0.1000 801209.0825\n",
      "   100 303344510.0924             nan     0.1000 -159264.6659\n",
      "   120 277892041.8547             nan     0.1000 -1416727.0200\n",
      "   140 257688574.0404             nan     0.1000 -368964.4084\n",
      "   160 239388417.9734             nan     0.1000 -685525.6093\n",
      "   180 225391336.5914             nan     0.1000 -2343874.0869\n",
      "   200 213776031.3695             nan     0.1000 -468072.7708\n",
      "   220 203237642.8428             nan     0.1000 -534701.3063\n",
      "   240 192952398.7587             nan     0.1000 -743705.5187\n",
      "   250 188489895.1061             nan     0.1000 -762908.4532\n",
      "\n"
     ]
    },
    {
     "name": "stderr",
     "output_type": "stream",
     "text": [
      "Using 250 trees...\n",
      "\n"
     ]
    },
    {
     "name": "stdout",
     "output_type": "stream",
     "text": [
      "error is  0.1213458 \n",
      "\n",
      "i  28  depth  4  ntree  100  shrinkage  0.01 \n",
      "Iter   TrainDeviance   ValidDeviance   StepSize   Improve\n",
      "     1 5611729014.8382             nan     0.0100 78071602.0835\n",
      "     2 5531413896.2046             nan     0.0100 77480565.0095\n",
      "     3 5457059246.5857             nan     0.0100 69522206.4208\n",
      "     4 5382906402.6741             nan     0.0100 70564933.7849\n",
      "     5 5313399412.5584             nan     0.0100 72628878.0004\n",
      "     6 5241487289.8941             nan     0.0100 76854264.7091\n",
      "     7 5170207986.2096             nan     0.0100 69076387.6801\n",
      "     8 5099265117.5662             nan     0.0100 65916054.0757\n",
      "     9 5034985430.3587             nan     0.0100 63600603.4978\n",
      "    10 4968510214.7928             nan     0.0100 66334274.7500\n",
      "    20 4357678869.1527             nan     0.0100 52109462.8331\n",
      "    40 3413234489.8968             nan     0.0100 35517357.9094\n",
      "    60 2722133164.7753             nan     0.0100 25771952.5904\n",
      "    80 2201900679.1435             nan     0.0100 21598236.8977\n",
      "   100 1810388246.3047             nan     0.0100 15027051.3596\n",
      "\n"
     ]
    },
    {
     "name": "stderr",
     "output_type": "stream",
     "text": [
      "Using 100 trees...\n",
      "\n"
     ]
    },
    {
     "name": "stdout",
     "output_type": "stream",
     "text": [
      "error is  0.2311429 \n",
      "\n",
      "i  29  depth  1  ntree  100  shrinkage  0.01 \n",
      "Iter   TrainDeviance   ValidDeviance   StepSize   Improve\n",
      "     1 5636373118.3850             nan     0.0100 51100438.7455\n",
      "     2 5588710074.9698             nan     0.0100 50575902.1781\n",
      "     3 5535902086.5792             nan     0.0100 50279677.9876\n",
      "     4 5488033725.9552             nan     0.0100 49564254.9253\n",
      "     5 5442393239.8370             nan     0.0100 49991578.6221\n",
      "     6 5391604542.5823             nan     0.0100 46936429.3250\n",
      "     7 5345327792.7611             nan     0.0100 47544667.2149\n",
      "     8 5296281393.7353             nan     0.0100 47259305.7749\n",
      "     9 5246544042.8070             nan     0.0100 45127831.7049\n",
      "    10 5200371666.8890             nan     0.0100 45990312.5063\n",
      "    20 4774603299.4426             nan     0.0100 36454449.7366\n",
      "    40 4106343155.8804             nan     0.0100 27813522.0633\n",
      "    60 3601800271.1323             nan     0.0100 20774316.0149\n",
      "    80 3198132074.6746             nan     0.0100 18312447.6246\n",
      "   100 2859676207.5544             nan     0.0100 15209615.6041\n",
      "\n"
     ]
    },
    {
     "name": "stderr",
     "output_type": "stream",
     "text": [
      "Using 100 trees...\n",
      "\n"
     ]
    },
    {
     "name": "stdout",
     "output_type": "stream",
     "text": [
      "error is  0.2773488 \n",
      "\n",
      "i  30  depth  4  ntree  300  shrinkage  0.001 \n",
      "Iter   TrainDeviance   ValidDeviance   StepSize   Improve\n",
      "     1 5681275760.3704             nan     0.0010 6986970.2012\n",
      "     2 5673404640.7162             nan     0.0010 7930231.0863\n",
      "     3 5665873309.7877             nan     0.0010 7303897.2418\n",
      "     4 5657948016.3828             nan     0.0010 7429263.6035\n",
      "     5 5650330248.7054             nan     0.0010 6965893.6588\n",
      "     6 5642855133.2633             nan     0.0010 6983726.6877\n",
      "     7 5635367450.8455             nan     0.0010 7600448.3037\n",
      "     8 5627712699.0249             nan     0.0010 8194216.2454\n",
      "     9 5619629013.1980             nan     0.0010 7727395.8028\n",
      "    10 5611872918.4309             nan     0.0010 7015420.4830\n",
      "    20 5538074472.3239             nan     0.0010 7392622.0292\n",
      "    40 5390451931.2972             nan     0.0010 7446951.4391\n",
      "    60 5246403384.8420             nan     0.0010 7116411.2275\n",
      "    80 5106922402.7235             nan     0.0010 6374835.5165\n",
      "   100 4971281946.0844             nan     0.0010 6498272.5307\n",
      "   120 4843243681.3587             nan     0.0010 6834311.5571\n",
      "   140 4718662431.6322             nan     0.0010 6164819.8132\n",
      "   160 4597440238.3258             nan     0.0010 5516050.0319\n",
      "   180 4480739777.7832             nan     0.0010 4878701.1771\n",
      "   200 4369000817.5973             nan     0.0010 5733219.2794\n",
      "   220 4259384066.2873             nan     0.0010 5053258.6771\n",
      "   240 4155055453.7869             nan     0.0010 4186627.9260\n",
      "   260 4052883079.4668             nan     0.0010 4159825.8828\n",
      "   280 3954115057.1529             nan     0.0010 4440590.2824\n",
      "   300 3858086023.9110             nan     0.0010 4433135.9617\n",
      "\n"
     ]
    },
    {
     "name": "stderr",
     "output_type": "stream",
     "text": [
      "Using 300 trees...\n",
      "\n"
     ]
    },
    {
     "name": "stdout",
     "output_type": "stream",
     "text": [
      "error is  0.3178483 \n",
      "\n"
     ]
    }
   ],
   "source": [
    "library(gbm)\n",
    "#HYPERTUNING BOOSTING TREES\n",
    "#Similar to random forests I will start with a random search for hyper parameters\n",
    "set.seed(4)\n",
    "params <- expand.grid(depth=1:5,\n",
    "    ntree=c(100,150,200,250, 300),shrinkage=c(1,0.5,0.1,0.05,0.01,0.001) )\n",
    "cv.length=30\n",
    "depths <- rep(0,cv.length)\n",
    "ntrees <- rep(0,cv.length)\n",
    "shrinks <- rep(0,cv.length)\n",
    "errors <- rep(0,cv.length)\n",
    "for (i in 1:cv.length) {\n",
    "    #select the parameters\n",
    "    par <- params[sample(nrow(params) , 1),]\n",
    "    shrinks[i] = par$shrinkage\n",
    "    depths[i] = par$depth\n",
    "    ntrees[i] = par$ntree\n",
    "    cat(\"i \",i,\" depth \", depths[i], \" ntree \", ntrees[i],\" shrinkage \", shrinks[i],\"\\n\")\n",
    "    \n",
    "    #train the model and calulate errors\n",
    "    boost.fit <- gbm(SalePrice~., data=train.cv, distribution=\"gaussian\" , interaction.depth=depths[i], \n",
    "                 shrinkage=shrinks[i],n.trees=ntrees[i], verbose=TRUE)\n",
    "    errors[i]= sqrt(mean( log(abs(predict(boost.fit , newdata = cv)) - log(cv$SalePrice))^2 ))\n",
    "    \n",
    "    if(is.na(errors[i])){ stop(\"NANS produced\")}\n",
    "    \n",
    "    cat(\"error is \", errors[i], \"\\n\")\n",
    "    cat(\"\\n\")\n",
    "    \n",
    "    #save the results to a csv incase training fails\n",
    "    boost.results <- data.frame(Shrinkage = shrinks, ntree=ntrees, depths=depths, errors=errors)\n",
    "    write.csv(boost.results, file=\"Models/Trees/BoostingCVResults.csv\")\n",
    "}"
   ]
  },
  {
   "cell_type": "code",
   "execution_count": 128,
   "metadata": {},
   "outputs": [
    {
     "name": "stdout",
     "output_type": "stream",
     "text": [
      "Iter   TrainDeviance   ValidDeviance   StepSize   Improve\n",
      "     1 5618114263.3985             nan     0.0100 72768219.9898\n",
      "     2 5549113084.8742             nan     0.0100 67526723.7399\n",
      "     3 5484785927.2870             nan     0.0100 68186502.1232\n",
      "     4 5421421352.9484             nan     0.0100 59137750.8777\n",
      "     5 5357213222.9173             nan     0.0100 62506802.1415\n",
      "     6 5293652895.5144             nan     0.0100 60301842.3633\n",
      "     7 5233496199.1667             nan     0.0100 57776008.4428\n",
      "     8 5176401174.7676             nan     0.0100 55326507.1727\n",
      "     9 5118206581.7807             nan     0.0100 61851129.9834\n",
      "    10 5058922948.0665             nan     0.0100 59856632.4882\n",
      "    20 4529098116.0519             nan     0.0100 46658526.9331\n",
      "    40 3703937402.9985             nan     0.0100 34803600.1341\n",
      "    60 3097615930.0962             nan     0.0100 24413781.6463\n",
      "    80 2633322092.3969             nan     0.0100 20979076.1197\n",
      "   100 2265661438.3494             nan     0.0100 17816137.6261\n",
      "   120 1963564515.1238             nan     0.0100 10789205.9321\n",
      "   140 1722478729.2823             nan     0.0100 8531431.9590\n",
      "   160 1530279832.7355             nan     0.0100 6819236.6561\n",
      "   180 1366068159.8075             nan     0.0100 7015686.9374\n",
      "   200 1230979695.4631             nan     0.0100 4880833.6472\n",
      "   220 1119541872.3925             nan     0.0100 5058728.6595\n",
      "   240 1024722747.7569             nan     0.0100 3564442.1991\n",
      "   260 943921640.3898             nan     0.0100 2317757.8686\n",
      "   280 877701134.3511             nan     0.0100 2457548.0550\n",
      "   300 818991194.7672             nan     0.0100 1818387.3380\n",
      "\n"
     ]
    },
    {
     "name": "stderr",
     "output_type": "stream",
     "text": [
      "Using 300 trees...\n",
      "\n"
     ]
    },
    {
     "data": {
      "text/html": [
       "0.174897814783428"
      ],
      "text/latex": [
       "0.174897814783428"
      ],
      "text/markdown": [
       "0.174897814783428"
      ],
      "text/plain": [
       "[1] 0.1748978"
      ]
     },
     "metadata": {},
     "output_type": "display_data"
    }
   ],
   "source": [
    "library(gbm)\n",
    "set.seed(44)\n",
    "boost.fit <- gbm(SalePrice~., train.cv, distribution=\"gaussian\" , interaction.depth=2, shrinkage=0.01,\n",
    "                 n.tree = 300,verbose=TRUE)\n",
    "sqrt(mean( (log( predict(boost.fit , newdata = cv)) - log(cv$SalePrice))^2 ))\n"
   ]
  },
  {
   "cell_type": "code",
   "execution_count": 145,
   "metadata": {},
   "outputs": [
    {
     "name": "stdout",
     "output_type": "stream",
     "text": [
      "Iter   TrainDeviance   ValidDeviance   StepSize   Improve\n",
      "     1 5024334397.5620             nan     0.1000 626362489.4810\n",
      "     2 4457955306.4234             nan     0.1000 541729291.1160\n",
      "     3 4008534408.1350             nan     0.1000 449929958.2408\n",
      "     4 3632954767.8671             nan     0.1000 371773965.1993\n",
      "     5 3329716392.5357             nan     0.1000 330665499.5367\n",
      "     6 3035926529.1494             nan     0.1000 291809954.0679\n",
      "     7 2784884218.3710             nan     0.1000 206381375.2463\n",
      "     8 2557659519.4131             nan     0.1000 227726823.8060\n",
      "     9 2378731340.2298             nan     0.1000 172186569.7413\n",
      "    10 2211499581.4263             nan     0.1000 173896728.3262\n",
      "    20 1205021438.5473             nan     0.1000 55230064.3368\n",
      "    40 641689307.3049             nan     0.1000 10022417.4462\n",
      "    60 486817875.1172             nan     0.1000 -1081089.5309\n",
      "    80 422197619.5849             nan     0.1000 1608950.2306\n",
      "   100 386235978.8382             nan     0.1000 401369.1198\n",
      "   120 356377466.6350             nan     0.1000 -3389816.5445\n",
      "   140 339207092.6252             nan     0.1000 -973825.1868\n",
      "   160 319866408.1165             nan     0.1000 -354524.6762\n",
      "   180 303755674.9299             nan     0.1000 -808903.8161\n",
      "   200 288490991.9798             nan     0.1000 -672240.4376\n",
      "   220 274696036.2717             nan     0.1000 -1520337.0925\n",
      "   240 264087199.7096             nan     0.1000 -1027057.5622\n",
      "   260 255144725.3674             nan     0.1000 -467682.2479\n",
      "   280 245889278.1875             nan     0.1000 -597198.0271\n",
      "   300 237275199.9168             nan     0.1000 -571006.0803\n",
      "\n"
     ]
    },
    {
     "name": "stderr",
     "output_type": "stream",
     "text": [
      "Using 300 trees...\n",
      "\n"
     ]
    },
    {
     "data": {
      "text/html": [
       "0.12103561127388"
      ],
      "text/latex": [
       "0.12103561127388"
      ],
      "text/markdown": [
       "0.12103561127388"
      ],
      "text/plain": [
       "[1] 0.1210356"
      ]
     },
     "metadata": {},
     "output_type": "display_data"
    }
   ],
   "source": [
    "boost.fit <- gbm(SalePrice~., data=train.cv, distribution=\"gaussian\" , interaction.depth=2, \n",
    "                 shrinkage=0.1,n.trees=300, verbose=TRUE)\n",
    "sqrt(mean( (log(predict(boost.fit , newdata = cv)) - log(cv$SalePrice))^2 ))"
   ]
  },
  {
   "cell_type": "code",
   "execution_count": 147,
   "metadata": {},
   "outputs": [
    {
     "name": "stdout",
     "output_type": "stream",
     "text": [
      "Iter   TrainDeviance   ValidDeviance   StepSize   Improve\n",
      "     1 4996010143.4485             nan     0.1000 680270293.8937\n",
      "     2 4399968663.0596             nan     0.1000 592895430.2054\n",
      "     3 3891795340.1491             nan     0.1000 501255599.1168\n",
      "     4 3480746919.0043             nan     0.1000 412734828.4096\n",
      "     5 3122416594.4847             nan     0.1000 319256618.7272\n",
      "     6 2807974084.6452             nan     0.1000 346605609.2435\n",
      "     7 2548923655.8533             nan     0.1000 182253593.6982\n",
      "     8 2318231605.4372             nan     0.1000 201520144.8038\n",
      "     9 2110621152.5212             nan     0.1000 203059238.2713\n",
      "    10 1929464821.4625             nan     0.1000 169405452.4051\n",
      "    20 962738836.2235             nan     0.1000 47286500.8562\n",
      "    40 498472633.8576             nan     0.1000 4957013.3827\n",
      "    60 378639610.9811             nan     0.1000 32302.4176\n",
      "    80 330477051.0282             nan     0.1000 -327637.9900\n",
      "   100 300412088.3853             nan     0.1000 -2207721.9365\n",
      "   120 276308077.6446             nan     0.1000 -720290.7819\n",
      "   140 255460194.0519             nan     0.1000 -815150.4119\n",
      "   160 237715267.6647             nan     0.1000 -917577.9095\n",
      "   180 221180233.9509             nan     0.1000 -1991515.8850\n",
      "   200 209107053.5523             nan     0.1000 -1339001.1324\n",
      "   220 198233345.9851             nan     0.1000 -1159484.7064\n",
      "   240 187159757.1488             nan     0.1000 -633654.4276\n",
      "   260 176914301.6713             nan     0.1000 -740915.1027\n",
      "   280 168105099.9257             nan     0.1000 221729.1161\n",
      "   300 161394348.6405             nan     0.1000 -919964.8201\n",
      "\n"
     ]
    },
    {
     "name": "stderr",
     "output_type": "stream",
     "text": [
      "Using 300 trees...\n",
      "\n"
     ]
    },
    {
     "data": {
      "text/html": [
       "0.117743401611508"
      ],
      "text/latex": [
       "0.117743401611508"
      ],
      "text/markdown": [
       "0.117743401611508"
      ],
      "text/plain": [
       "[1] 0.1177434"
      ]
     },
     "metadata": {},
     "output_type": "display_data"
    }
   ],
   "source": [
    "boost.fit <- gbm(SalePrice~., data=train.cv, distribution=\"gaussian\" , interaction.depth=3, \n",
    "                 shrinkage=0.1,n.trees=300, verbose=TRUE)\n",
    "sqrt(mean( (log(predict(boost.fit , newdata = cv)) - log(cv$SalePrice))^2 ))"
   ]
  },
  {
   "cell_type": "code",
   "execution_count": 148,
   "metadata": {},
   "outputs": [
    {
     "name": "stderr",
     "output_type": "stream",
     "text": [
      "Using 300 trees...\n",
      "\n"
     ]
    }
   ],
   "source": [
    "test.predict <- data.frame(Id = test$Id, SalePrice = predict(boost.fit , newdata=test)) %>% arrange(Id)\n",
    "write.csv(test.predict, \"Models/Trees/Boosting Predictions.csv\", row.names=FALSE)"
   ]
  },
  {
   "cell_type": "code",
   "execution_count": null,
   "metadata": {},
   "outputs": [],
   "source": [
    "#HYPERTUNING THE XGBOOST\n",
    "#similar to randomforsts I will start with a random search\n",
    "library(xgboost)\n",
    "set.seed(5)\n",
    "params <- expand.grid(eta=seq(0.1,0.3,0.05) , gamma=c(0,0,1,0.2), max_depth=10:25, nround=30)\n",
    "cv.length=10\n",
    "etas <- rep(0,cv.length)\n",
    "depths <- rep(0,cv.length)\n",
    "gammas <- rep(0,cv.length)\n",
    "errors <- rep(0,cv.length)\n",
    "nrounds <- rep(0,cv.length)\n",
    "\n",
    "\n",
    "for (i in 1:cv.length) {\n",
    "    #select the parameters\n",
    "    par <- params[sample(nrow(params) , 1),]\n",
    "    depths[i] = par$max_depth\n",
    "    etas[i] = par$eta\n",
    "    gammas[i] = par$gamma\n",
    "    nrounds[i] = par$nround\n",
    "    cat(\"i \",i,\" eta \", etas[i], \" depth \", depths[i],\"gamma\", gammas[i],\"nrounds\",nrounds[i], \"\\n\")\n",
    "    \n",
    "    #train the model and calulate errors\n",
    "    xg.fit <- xgboost(data=train.cv.matrix,label=as.matrix(train.cv.matrix.labels),  eta = etas[i], max_depth = depths[i], \n",
    "                     gamma= gammas[i] , nrounds=nrounds[i])\n",
    "    errors[i]= sqrt(mean( (log( predict(xg.fit , newdata = cv.matrix)) - log(cv.matrix.labels))^2 ))\n",
    "    cat(\"error is \", errors[i], \"\\n\")\n",
    "    cat(\"\\n\")\n",
    "    \n",
    "    if(is.na(errors[i])){ stop(\"NANS produced\")}\n",
    "\n",
    "    #save the results to a csv incase training fails\n",
    "    rf.results <- data.frame(gamma = gammas, max_depth=depths, eta = etas, errors=errors)\n",
    "    write.csv(rf.results, file=\"Models/Trees/RandomForestsCVResults.csv\")\n",
    "}"
   ]
  },
  {
   "cell_type": "code",
   "execution_count": 48,
   "metadata": {},
   "outputs": [
    {
     "data": {
      "image/png": "[encoded data removed]",
      "text/plain": [
       "plot without title"
      ]
     },
     "metadata": {},
     "output_type": "display_data"
    }
   ],
   "source": [
    "plot(depths, errors)"
   ]
  },
  {
   "cell_type": "code",
   "execution_count": 43,
   "metadata": {
    "scrolled": true
   },
   "outputs": [
    {
     "name": "stderr",
     "output_type": "stream",
     "text": [
      "Warning message in xgb.train(params, dtrain, nrounds, watchlist, verbose = verbose, :\n",
      "\"xgb.train: `seed` is ignored in R package.  Use `set.seed()` instead.\""
     ]
    },
    {
     "name": "stdout",
     "output_type": "stream",
     "text": [
      "[1]\ttrain-rmse:164725.328125 \n",
      "[2]\ttrain-rmse:139708.718750 \n",
      "[3]\ttrain-rmse:118622.960938 \n",
      "[4]\ttrain-rmse:100870.093750 \n",
      "[5]\ttrain-rmse:85913.812500 \n",
      "[6]\ttrain-rmse:73275.273438 \n",
      "[7]\ttrain-rmse:62633.085938 \n",
      "[8]\ttrain-rmse:53650.027344 \n",
      "[9]\ttrain-rmse:46069.511719 \n",
      "[10]\ttrain-rmse:39635.562500 \n",
      "[11]\ttrain-rmse:34174.800781 \n",
      "[12]\ttrain-rmse:29510.199219 \n",
      "[13]\ttrain-rmse:25545.220703 \n",
      "[14]\ttrain-rmse:22166.115234 \n",
      "[15]\ttrain-rmse:19257.882812 \n",
      "[16]\ttrain-rmse:16769.384766 \n",
      "[17]\ttrain-rmse:14606.125000 \n",
      "[18]\ttrain-rmse:12747.153320 \n",
      "[19]\ttrain-rmse:11139.407227 \n",
      "[20]\ttrain-rmse:9758.734375 \n",
      "[21]\ttrain-rmse:8562.008789 \n",
      "[22]\ttrain-rmse:7532.248047 \n",
      "[23]\ttrain-rmse:6640.013184 \n",
      "[24]\ttrain-rmse:5864.314941 \n",
      "[25]\ttrain-rmse:5166.481445 \n",
      "[26]\ttrain-rmse:4563.929199 \n",
      "[27]\ttrain-rmse:4040.347168 \n",
      "[28]\ttrain-rmse:3581.541992 \n",
      "[29]\ttrain-rmse:3188.184082 \n",
      "[30]\ttrain-rmse:2831.757812 \n"
     ]
    }
   ],
   "source": [
    "xg.fit <- xgboost(data=train.matrix,label=as.matrix(train$SalePrice),  eta = 0.21, max_depth = 20, \n",
    "                     gamma= 0.1 , seed=42, nrounds=30)\n",
    "#i  1  eta  0.16  depth  18 gamma 0 \n",
    "#i  3  eta  0.21  depth  20 gamma 0.1 \n",
    "\n",
    "test.predict <- data.frame(Id = test$Id, SalePrice = predict(xg.fit , newdata = test.matrix)) %>% arrange(Id)\n",
    "write.csv(test.predict, \"Models/Trees/XGBoost Predictions.csv\", row.names=FALSE)\n",
    "\n"
   ]
  }
 ],
 "metadata": {
  "kernelspec": {
   "display_name": "R",
   "language": "R",
   "name": "ir"
  },
  "language_info": {
   "codemirror_mode": "r",
   "file_extension": ".r",
   "mimetype": "text/x-r-source",
   "name": "R",
   "pygments_lexer": "r",
   "version": "3.6.1"
  }
 },
 "nbformat": 4,
 "nbformat_minor": 4
}
