{
 "cells": [
  {
   "cell_type": "code",
   "execution_count": 30,
   "metadata": {},
   "outputs": [
    {
     "name": "stderr",
     "output_type": "stream",
     "text": [
      "Warning message in library(modules):\n",
      "\"Packages loaded with 'library' may not be available inside a module. For loading packages in a module, use 'import' instead.\"Warning message in library(rlang):\n",
      "\"Packages loaded with 'library' may not be available inside a module. For loading packages in a module, use 'import' instead.\""
     ]
    },
    {
     "name": "stdout",
     "output_type": "stream",
     "text": [
      "train has 1453 rows."
     ]
    }
   ],
   "source": [
    "library(tidyverse)\n",
    "library(caret)\n",
    "library(car)\n",
    "library(glmnet)\n",
    "library(dplyr)\n",
    "\n",
    "setwd('C:/Users/iceca/Documents/Housing_Regression')\n",
    "\n",
    "set.seed(42)\n",
    "\n",
    "m <- modules::use(\"Helpers/Loading_Data.R\")\n",
    "m <- m$load.train\n",
    "\n",
    "dat <- m$skew.data()\n",
    "test <- dat[[2]] \n",
    "train <- dat[[1]] %>% arrange(Id) %>% mutate(SalePrice = labels$SalePrice)\n",
    "\n",
    "cat(\"train has\" , nrow(train), \"rows.\")\n",
    "#I need to combine the train and test into one model matrix to ensure that train and test have the same factors\n",
    "dat.matrix <- model.matrix(SalePrice ~. , rbind( train , test %>% mutate(SalePrice=0) ) )\n",
    "train.matrix <- dat.matrix[1:nrow(train),]\n",
    "test.matrix <- dat.matrix[ (1+nrow(train)) : dim(dat.matrix)[1] ,]\n",
    "labels <- m$get.labels() %>% arrange(Id) %>% filter(Id %in% train$Id)\n",
    "\n",
    "\n",
    "train <- dat[[1]] %>% arrange(Id) %>% mutate(SalePrice = labels$SalePrice)\n",
    "cross.validation.index <- createDataPartition(labels$SalePrice,times = 1,p = 0.1,list = FALSE)\n",
    "cv <- train[cross.validation.index , ]\n",
    "train.cv <- train[-cross.validation.index , ]\n",
    "train.raw <- m$featEngRaw.data()[[1]]"
   ]
  },
  {
   "cell_type": "code",
   "execution_count": 36,
   "metadata": {},
   "outputs": [
    {
     "data": {
      "text/html": [
       "1459"
      ],
      "text/latex": [
       "1459"
      ],
      "text/markdown": [
       "1459"
      ],
      "text/plain": [
       "[1] 1459"
      ]
     },
     "metadata": {},
     "output_type": "display_data"
    },
    {
     "data": {
      "text/html": [
       "2912"
      ],
      "text/latex": [
       "2912"
      ],
      "text/markdown": [
       "2912"
      ],
      "text/plain": [
       "[1] 2912"
      ]
     },
     "metadata": {},
     "output_type": "display_data"
    },
    {
     "data": {
      "text/html": [
       "<ol class=list-inline>\n",
       "\t<li>1459</li>\n",
       "\t<li>216</li>\n",
       "</ol>\n"
      ],
      "text/latex": [
       "\\begin{enumerate*}\n",
       "\\item 1459\n",
       "\\item 216\n",
       "\\end{enumerate*}\n"
      ],
      "text/markdown": [
       "1. 1459\n",
       "2. 216\n",
       "\n",
       "\n"
      ],
      "text/plain": [
       "[1] 1459  216"
      ]
     },
     "metadata": {},
     "output_type": "display_data"
    },
    {
     "data": {
      "text/html": [
       "<ol class=list-inline>\n",
       "\t<li>1453</li>\n",
       "\t<li>216</li>\n",
       "</ol>\n"
      ],
      "text/latex": [
       "\\begin{enumerate*}\n",
       "\\item 1453\n",
       "\\item 216\n",
       "\\end{enumerate*}\n"
      ],
      "text/markdown": [
       "1. 1453\n",
       "2. 216\n",
       "\n",
       "\n"
      ],
      "text/plain": [
       "[1] 1453  216"
      ]
     },
     "metadata": {},
     "output_type": "display_data"
    },
    {
     "data": {
      "text/html": [
       "FALSE"
      ],
      "text/latex": [
       "FALSE"
      ],
      "text/markdown": [
       "FALSE"
      ],
      "text/plain": [
       "[1] FALSE"
      ]
     },
     "metadata": {},
     "output_type": "display_data"
    }
   ],
   "source": [
    "test %>% nrow()\n",
    "dim(dat.matrix)[1]\n",
    "dim(test.matrix)\n",
    "dim(train.matrix)\n",
    "c(\"SalePrice\") %in% names(train.matrix)"
   ]
  },
  {
   "cell_type": "code",
   "execution_count": 52,
   "metadata": {},
   "outputs": [],
   "source": [
    "#ELASTIC REGRESSION\n",
    "log.mse <- function (data,\n",
    "                        lev = NULL,\n",
    "                        model = NULL) {\n",
    "  out <-  sqrt(mean(   (log(data$obs) - log(abs(data$pred)))^2   ))\n",
    "  names(out) <- \"logMSE\"\n",
    "  out\n",
    "}\n",
    "\n",
    "elastic.fit <- train(\n",
    "  SalePrice ~ . + cut(LotArea, 4) + cut(OverallQual,3)+ cut(TotalSQF,4) + cut(YearRemodAdd,3)    , \n",
    "    data = train, method = \"glmnet\",\n",
    "  trControl = trainControl(\"cv\", number = 10, search= \"random\",summaryFunction = log.mse ),\n",
    "  tuneGrid = expand.grid(alpha=seq(0,1,0.05) , lambda = c(50,40,20,30,10,5,1,0.5,0.7,0.1,0.05,0.01,0.001,0.005)),\n",
    "  metric=\"logMSE\",\n",
    "  tuneLength = 500\n",
    ")\n"
   ]
  },
  {
   "cell_type": "markdown",
   "metadata": {},
   "source": [
    "BEST ELASTICNET WITH CUTPOINTS <br>\n",
    "alpha =0.3, lambda,32, error=0.1237"
   ]
  },
  {
   "cell_type": "code",
   "execution_count": 53,
   "metadata": {
    "scrolled": true
   },
   "outputs": [
    {
     "data": {
      "text/html": [
       "<table>\n",
       "<thead><tr><th></th><th scope=col>alpha</th><th scope=col>lambda</th></tr></thead>\n",
       "<tbody>\n",
       "\t<tr><th scope=row>275</th><td>0.95</td><td>5   </td></tr>\n",
       "</tbody>\n",
       "</table>\n"
      ],
      "text/latex": [
       "\\begin{tabular}{r|ll}\n",
       "  & alpha & lambda\\\\\n",
       "\\hline\n",
       "\t275 & 0.95 & 5   \\\\\n",
       "\\end{tabular}\n"
      ],
      "text/markdown": [
       "\n",
       "| <!--/--> | alpha | lambda |\n",
       "|---|---|---|\n",
       "| 275 | 0.95 | 5    |\n",
       "\n"
      ],
      "text/plain": [
       "    alpha lambda\n",
       "275 0.95  5     "
      ]
     },
     "metadata": {},
     "output_type": "display_data"
    },
    {
     "data": {
      "text/html": [
       "0.129565066287108"
      ],
      "text/latex": [
       "0.129565066287108"
      ],
      "text/markdown": [
       "0.129565066287108"
      ],
      "text/plain": [
       "[1] 0.1295651"
      ]
     },
     "metadata": {},
     "output_type": "display_data"
    }
   ],
   "source": [
    "elastic.fit$bestTune\n",
    "elastic.fit$results$logMSE %>% min()"
   ]
  },
  {
   "cell_type": "code",
   "execution_count": 38,
   "metadata": {},
   "outputs": [],
   "source": [
    "elastic.fit <- glmnet(x=train.matrix,y = train$SalePrice, alpha=0.3, lambda=32 ) "
   ]
  },
  {
   "cell_type": "code",
   "execution_count": 47,
   "metadata": {},
   "outputs": [
    {
     "data": {
      "text/html": [
       "0.111735502912381"
      ],
      "text/latex": [
       "0.111735502912381"
      ],
      "text/markdown": [
       "0.111735502912381"
      ],
      "text/plain": [
       "[1] 0.1117355"
      ]
     },
     "metadata": {},
     "output_type": "display_data"
    },
    {
     "data": {
      "text/html": [
       "<table>\n",
       "<thead><tr><th></th><th scope=col>Id</th><th scope=col>SalePrice</th></tr></thead>\n",
       "<tbody>\n",
       "\t<tr><th scope=row>1454</th><td>1461     </td><td>118411.68</td></tr>\n",
       "\t<tr><th scope=row>1455</th><td>1462     </td><td>164924.04</td></tr>\n",
       "\t<tr><th scope=row>1456</th><td>1463     </td><td>185028.13</td></tr>\n",
       "\t<tr><th scope=row>1457</th><td>1464     </td><td>193416.89</td></tr>\n",
       "\t<tr><th scope=row>1458</th><td>1465     </td><td>201003.53</td></tr>\n",
       "\t<tr><th scope=row>1459</th><td>1466     </td><td>169622.81</td></tr>\n",
       "\t<tr><th scope=row>1460</th><td>1467     </td><td>172764.94</td></tr>\n",
       "\t<tr><th scope=row>1461</th><td>1468     </td><td>161536.80</td></tr>\n",
       "\t<tr><th scope=row>1462</th><td>1469     </td><td>202661.58</td></tr>\n",
       "\t<tr><th scope=row>1463</th><td>1470     </td><td>119364.90</td></tr>\n",
       "\t<tr><th scope=row>1464</th><td>1471     </td><td>171972.98</td></tr>\n",
       "\t<tr><th scope=row>1465</th><td>1472     </td><td> 89749.44</td></tr>\n",
       "\t<tr><th scope=row>1466</th><td>1473     </td><td> 97031.60</td></tr>\n",
       "\t<tr><th scope=row>1467</th><td>1474     </td><td>144347.79</td></tr>\n",
       "\t<tr><th scope=row>1468</th><td>1475     </td><td>101694.23</td></tr>\n",
       "\t<tr><th scope=row>1469</th><td>1476     </td><td>382491.35</td></tr>\n",
       "\t<tr><th scope=row>1470</th><td>1477     </td><td>262024.59</td></tr>\n",
       "\t<tr><th scope=row>1471</th><td>1478     </td><td>289317.89</td></tr>\n",
       "\t<tr><th scope=row>1472</th><td>1479     </td><td>286659.40</td></tr>\n",
       "\t<tr><th scope=row>1473</th><td>1480     </td><td>471195.31</td></tr>\n",
       "\t<tr><th scope=row>1474</th><td>1481     </td><td>324722.87</td></tr>\n",
       "\t<tr><th scope=row>1475</th><td>1482     </td><td>217287.80</td></tr>\n",
       "\t<tr><th scope=row>1476</th><td>1483     </td><td>178986.35</td></tr>\n",
       "\t<tr><th scope=row>1477</th><td>1484     </td><td>156172.14</td></tr>\n",
       "\t<tr><th scope=row>1478</th><td>1485     </td><td>185026.61</td></tr>\n",
       "\t<tr><th scope=row>1479</th><td>1486     </td><td>195708.22</td></tr>\n",
       "\t<tr><th scope=row>1480</th><td>1487     </td><td>310201.32</td></tr>\n",
       "\t<tr><th scope=row>1481</th><td>1488     </td><td>219663.75</td></tr>\n",
       "\t<tr><th scope=row>1482</th><td>1489     </td><td>208308.91</td></tr>\n",
       "\t<tr><th scope=row>1483</th><td>1490     </td><td>238747.54</td></tr>\n",
       "\t<tr><th scope=row>...</th><td>...</td><td>...</td></tr>\n",
       "\t<tr><th scope=row>2883</th><td>2890      </td><td> 83263.604</td></tr>\n",
       "\t<tr><th scope=row>2884</th><td>2891      </td><td>148807.134</td></tr>\n",
       "\t<tr><th scope=row>2885</th><td>2892      </td><td> 30069.684</td></tr>\n",
       "\t<tr><th scope=row>2886</th><td>2893      </td><td> 68518.442</td></tr>\n",
       "\t<tr><th scope=row>2887</th><td>2894      </td><td>  8104.735</td></tr>\n",
       "\t<tr><th scope=row>2888</th><td>2895      </td><td>328095.824</td></tr>\n",
       "\t<tr><th scope=row>2889</th><td>2896      </td><td>269929.077</td></tr>\n",
       "\t<tr><th scope=row>2890</th><td>2897      </td><td>224452.145</td></tr>\n",
       "\t<tr><th scope=row>2891</th><td>2898      </td><td>130613.276</td></tr>\n",
       "\t<tr><th scope=row>2892</th><td>2899      </td><td>187270.016</td></tr>\n",
       "\t<tr><th scope=row>2893</th><td>2900      </td><td>155969.143</td></tr>\n",
       "\t<tr><th scope=row>2894</th><td>2901      </td><td>242898.332</td></tr>\n",
       "\t<tr><th scope=row>2895</th><td>2902      </td><td>187931.239</td></tr>\n",
       "\t<tr><th scope=row>2896</th><td>2903      </td><td>297250.280</td></tr>\n",
       "\t<tr><th scope=row>2897</th><td>2904      </td><td>362294.660</td></tr>\n",
       "\t<tr><th scope=row>2898</th><td>2905      </td><td> 67471.296</td></tr>\n",
       "\t<tr><th scope=row>2899</th><td>2906      </td><td>190315.575</td></tr>\n",
       "\t<tr><th scope=row>2900</th><td>2907      </td><td>106569.751</td></tr>\n",
       "\t<tr><th scope=row>2901</th><td>2908      </td><td>120965.291</td></tr>\n",
       "\t<tr><th scope=row>2902</th><td>2909      </td><td>127016.380</td></tr>\n",
       "\t<tr><th scope=row>2903</th><td>2910      </td><td> 62726.774</td></tr>\n",
       "\t<tr><th scope=row>2904</th><td>2911      </td><td> 74718.021</td></tr>\n",
       "\t<tr><th scope=row>2905</th><td>2912      </td><td>138373.039</td></tr>\n",
       "\t<tr><th scope=row>2906</th><td>2913      </td><td> 63480.647</td></tr>\n",
       "\t<tr><th scope=row>2907</th><td>2914      </td><td> 75665.318</td></tr>\n",
       "\t<tr><th scope=row>2908</th><td>2915      </td><td> 86060.935</td></tr>\n",
       "\t<tr><th scope=row>2909</th><td>2916      </td><td> 72663.744</td></tr>\n",
       "\t<tr><th scope=row>2910</th><td>2917      </td><td>165928.094</td></tr>\n",
       "\t<tr><th scope=row>2911</th><td>2918      </td><td>121787.056</td></tr>\n",
       "\t<tr><th scope=row>2912</th><td>2919      </td><td>228242.765</td></tr>\n",
       "</tbody>\n",
       "</table>\n"
      ],
      "text/latex": [
       "\\begin{tabular}{r|ll}\n",
       "  & Id & SalePrice\\\\\n",
       "\\hline\n",
       "\t1454 & 1461      & 118411.68\\\\\n",
       "\t1455 & 1462      & 164924.04\\\\\n",
       "\t1456 & 1463      & 185028.13\\\\\n",
       "\t1457 & 1464      & 193416.89\\\\\n",
       "\t1458 & 1465      & 201003.53\\\\\n",
       "\t1459 & 1466      & 169622.81\\\\\n",
       "\t1460 & 1467      & 172764.94\\\\\n",
       "\t1461 & 1468      & 161536.80\\\\\n",
       "\t1462 & 1469      & 202661.58\\\\\n",
       "\t1463 & 1470      & 119364.90\\\\\n",
       "\t1464 & 1471      & 171972.98\\\\\n",
       "\t1465 & 1472      &  89749.44\\\\\n",
       "\t1466 & 1473      &  97031.60\\\\\n",
       "\t1467 & 1474      & 144347.79\\\\\n",
       "\t1468 & 1475      & 101694.23\\\\\n",
       "\t1469 & 1476      & 382491.35\\\\\n",
       "\t1470 & 1477      & 262024.59\\\\\n",
       "\t1471 & 1478      & 289317.89\\\\\n",
       "\t1472 & 1479      & 286659.40\\\\\n",
       "\t1473 & 1480      & 471195.31\\\\\n",
       "\t1474 & 1481      & 324722.87\\\\\n",
       "\t1475 & 1482      & 217287.80\\\\\n",
       "\t1476 & 1483      & 178986.35\\\\\n",
       "\t1477 & 1484      & 156172.14\\\\\n",
       "\t1478 & 1485      & 185026.61\\\\\n",
       "\t1479 & 1486      & 195708.22\\\\\n",
       "\t1480 & 1487      & 310201.32\\\\\n",
       "\t1481 & 1488      & 219663.75\\\\\n",
       "\t1482 & 1489      & 208308.91\\\\\n",
       "\t1483 & 1490      & 238747.54\\\\\n",
       "\t... & ... & ...\\\\\n",
       "\t2883 & 2890       &  83263.604\\\\\n",
       "\t2884 & 2891       & 148807.134\\\\\n",
       "\t2885 & 2892       &  30069.684\\\\\n",
       "\t2886 & 2893       &  68518.442\\\\\n",
       "\t2887 & 2894       &   8104.735\\\\\n",
       "\t2888 & 2895       & 328095.824\\\\\n",
       "\t2889 & 2896       & 269929.077\\\\\n",
       "\t2890 & 2897       & 224452.145\\\\\n",
       "\t2891 & 2898       & 130613.276\\\\\n",
       "\t2892 & 2899       & 187270.016\\\\\n",
       "\t2893 & 2900       & 155969.143\\\\\n",
       "\t2894 & 2901       & 242898.332\\\\\n",
       "\t2895 & 2902       & 187931.239\\\\\n",
       "\t2896 & 2903       & 297250.280\\\\\n",
       "\t2897 & 2904       & 362294.660\\\\\n",
       "\t2898 & 2905       &  67471.296\\\\\n",
       "\t2899 & 2906       & 190315.575\\\\\n",
       "\t2900 & 2907       & 106569.751\\\\\n",
       "\t2901 & 2908       & 120965.291\\\\\n",
       "\t2902 & 2909       & 127016.380\\\\\n",
       "\t2903 & 2910       &  62726.774\\\\\n",
       "\t2904 & 2911       &  74718.021\\\\\n",
       "\t2905 & 2912       & 138373.039\\\\\n",
       "\t2906 & 2913       &  63480.647\\\\\n",
       "\t2907 & 2914       &  75665.318\\\\\n",
       "\t2908 & 2915       &  86060.935\\\\\n",
       "\t2909 & 2916       &  72663.744\\\\\n",
       "\t2910 & 2917       & 165928.094\\\\\n",
       "\t2911 & 2918       & 121787.056\\\\\n",
       "\t2912 & 2919       & 228242.765\\\\\n",
       "\\end{tabular}\n"
      ],
      "text/markdown": [
       "\n",
       "| <!--/--> | Id | SalePrice |\n",
       "|---|---|---|\n",
       "| 1454 | 1461      | 118411.68 |\n",
       "| 1455 | 1462      | 164924.04 |\n",
       "| 1456 | 1463      | 185028.13 |\n",
       "| 1457 | 1464      | 193416.89 |\n",
       "| 1458 | 1465      | 201003.53 |\n",
       "| 1459 | 1466      | 169622.81 |\n",
       "| 1460 | 1467      | 172764.94 |\n",
       "| 1461 | 1468      | 161536.80 |\n",
       "| 1462 | 1469      | 202661.58 |\n",
       "| 1463 | 1470      | 119364.90 |\n",
       "| 1464 | 1471      | 171972.98 |\n",
       "| 1465 | 1472      |  89749.44 |\n",
       "| 1466 | 1473      |  97031.60 |\n",
       "| 1467 | 1474      | 144347.79 |\n",
       "| 1468 | 1475      | 101694.23 |\n",
       "| 1469 | 1476      | 382491.35 |\n",
       "| 1470 | 1477      | 262024.59 |\n",
       "| 1471 | 1478      | 289317.89 |\n",
       "| 1472 | 1479      | 286659.40 |\n",
       "| 1473 | 1480      | 471195.31 |\n",
       "| 1474 | 1481      | 324722.87 |\n",
       "| 1475 | 1482      | 217287.80 |\n",
       "| 1476 | 1483      | 178986.35 |\n",
       "| 1477 | 1484      | 156172.14 |\n",
       "| 1478 | 1485      | 185026.61 |\n",
       "| 1479 | 1486      | 195708.22 |\n",
       "| 1480 | 1487      | 310201.32 |\n",
       "| 1481 | 1488      | 219663.75 |\n",
       "| 1482 | 1489      | 208308.91 |\n",
       "| 1483 | 1490      | 238747.54 |\n",
       "| ... | ... | ... |\n",
       "| 2883 | 2890       |  83263.604 |\n",
       "| 2884 | 2891       | 148807.134 |\n",
       "| 2885 | 2892       |  30069.684 |\n",
       "| 2886 | 2893       |  68518.442 |\n",
       "| 2887 | 2894       |   8104.735 |\n",
       "| 2888 | 2895       | 328095.824 |\n",
       "| 2889 | 2896       | 269929.077 |\n",
       "| 2890 | 2897       | 224452.145 |\n",
       "| 2891 | 2898       | 130613.276 |\n",
       "| 2892 | 2899       | 187270.016 |\n",
       "| 2893 | 2900       | 155969.143 |\n",
       "| 2894 | 2901       | 242898.332 |\n",
       "| 2895 | 2902       | 187931.239 |\n",
       "| 2896 | 2903       | 297250.280 |\n",
       "| 2897 | 2904       | 362294.660 |\n",
       "| 2898 | 2905       |  67471.296 |\n",
       "| 2899 | 2906       | 190315.575 |\n",
       "| 2900 | 2907       | 106569.751 |\n",
       "| 2901 | 2908       | 120965.291 |\n",
       "| 2902 | 2909       | 127016.380 |\n",
       "| 2903 | 2910       |  62726.774 |\n",
       "| 2904 | 2911       |  74718.021 |\n",
       "| 2905 | 2912       | 138373.039 |\n",
       "| 2906 | 2913       |  63480.647 |\n",
       "| 2907 | 2914       |  75665.318 |\n",
       "| 2908 | 2915       |  86060.935 |\n",
       "| 2909 | 2916       |  72663.744 |\n",
       "| 2910 | 2917       | 165928.094 |\n",
       "| 2911 | 2918       | 121787.056 |\n",
       "| 2912 | 2919       | 228242.765 |\n",
       "\n"
      ],
      "text/plain": [
       "     Id   SalePrice \n",
       "1454 1461 118411.68 \n",
       "1455 1462 164924.04 \n",
       "1456 1463 185028.13 \n",
       "1457 1464 193416.89 \n",
       "1458 1465 201003.53 \n",
       "1459 1466 169622.81 \n",
       "1460 1467 172764.94 \n",
       "1461 1468 161536.80 \n",
       "1462 1469 202661.58 \n",
       "1463 1470 119364.90 \n",
       "1464 1471 171972.98 \n",
       "1465 1472  89749.44 \n",
       "1466 1473  97031.60 \n",
       "1467 1474 144347.79 \n",
       "1468 1475 101694.23 \n",
       "1469 1476 382491.35 \n",
       "1470 1477 262024.59 \n",
       "1471 1478 289317.89 \n",
       "1472 1479 286659.40 \n",
       "1473 1480 471195.31 \n",
       "1474 1481 324722.87 \n",
       "1475 1482 217287.80 \n",
       "1476 1483 178986.35 \n",
       "1477 1484 156172.14 \n",
       "1478 1485 185026.61 \n",
       "1479 1486 195708.22 \n",
       "1480 1487 310201.32 \n",
       "1481 1488 219663.75 \n",
       "1482 1489 208308.91 \n",
       "1483 1490 238747.54 \n",
       "...  ...  ...       \n",
       "2883 2890  83263.604\n",
       "2884 2891 148807.134\n",
       "2885 2892  30069.684\n",
       "2886 2893  68518.442\n",
       "2887 2894   8104.735\n",
       "2888 2895 328095.824\n",
       "2889 2896 269929.077\n",
       "2890 2897 224452.145\n",
       "2891 2898 130613.276\n",
       "2892 2899 187270.016\n",
       "2893 2900 155969.143\n",
       "2894 2901 242898.332\n",
       "2895 2902 187931.239\n",
       "2896 2903 297250.280\n",
       "2897 2904 362294.660\n",
       "2898 2905  67471.296\n",
       "2899 2906 190315.575\n",
       "2900 2907 106569.751\n",
       "2901 2908 120965.291\n",
       "2902 2909 127016.380\n",
       "2903 2910  62726.774\n",
       "2904 2911  74718.021\n",
       "2905 2912 138373.039\n",
       "2906 2913  63480.647\n",
       "2907 2914  75665.318\n",
       "2908 2915  86060.935\n",
       "2909 2916  72663.744\n",
       "2910 2917 165928.094\n",
       "2911 2918 121787.056\n",
       "2912 2919 228242.765"
      ]
     },
     "metadata": {},
     "output_type": "display_data"
    }
   ],
   "source": [
    "sqrt(mean( (log(predict(elastic.fit, newx=train.matrix)) - log(train$SalePrice) )^2 ))\n",
    "\n",
    "elastic.predict <- data.frame(Id = test$Id , SalePrice=predict(elastic.fit, newx=test.matrix)[,1] )\n",
    "write.csv(elastic.predict , \"Models/LinearRegression/Elastic Predictions.csv\", row.names=FALSE)\n",
    "elastic.predict"
   ]
  },
  {
   "cell_type": "code",
   "execution_count": 137,
   "metadata": {},
   "outputs": [
    {
     "data": {
      "text/html": [
       "<ol class=list-inline>\n",
       "\t<li>'MSSubClass'</li>\n",
       "\t<li>'LotFrontage'</li>\n",
       "\t<li>'LotArea'</li>\n",
       "\t<li>'OverallQual'</li>\n",
       "\t<li>'OverallCond'</li>\n",
       "\t<li>'YearBuilt'</li>\n",
       "\t<li>'YearRemodAdd'</li>\n",
       "\t<li>'MasVnrArea'</li>\n",
       "\t<li>'BsmtFinSF1'</li>\n",
       "\t<li>'BsmtFinSF2'</li>\n",
       "\t<li>'BsmtUnfSF'</li>\n",
       "\t<li>'TotalBsmtSF'</li>\n",
       "\t<li>'1stFlrSF'</li>\n",
       "\t<li>'2ndFlrSF'</li>\n",
       "\t<li>'LowQualFinSF'</li>\n",
       "\t<li>'GrLivArea'</li>\n",
       "\t<li>'BsmtFullBath'</li>\n",
       "\t<li>'BsmtHalfBath'</li>\n",
       "\t<li>'FullBath'</li>\n",
       "\t<li>'HalfBath'</li>\n",
       "\t<li>'BedroomAbvGr'</li>\n",
       "\t<li>'KitchenAbvGr'</li>\n",
       "\t<li>'TotRmsAbvGrd'</li>\n",
       "\t<li>'Fireplaces'</li>\n",
       "\t<li>'GarageYrBlt'</li>\n",
       "\t<li>'GarageCars'</li>\n",
       "\t<li>'WoodDeckSF'</li>\n",
       "\t<li>'PoolArea'</li>\n",
       "\t<li>'MiscVal'</li>\n",
       "\t<li>'MoSold'</li>\n",
       "\t<li>'YrSold'</li>\n",
       "\t<li>'Porch'</li>\n",
       "\t<li>'AbvGrTotalBath'</li>\n",
       "\t<li>'BsmtTotalBath'</li>\n",
       "\t<li>'TotalSQF'</li>\n",
       "\t<li>'BedRoomsPerSQFAbvGr'</li>\n",
       "\t<li>'KitchensPerBedroom'</li>\n",
       "\t<li>'BathPerBedRoom'</li>\n",
       "\t<li>'ExtraRoom'</li>\n",
       "\t<li>'YearNbrhd'</li>\n",
       "\t<li>'LotAreaNbrhd'</li>\n",
       "\t<li>'TotalSqfNbrHd'</li>\n",
       "\t<li>'BsmtQualCond'</li>\n",
       "\t<li>'ExterQualCond'</li>\n",
       "\t<li>'OverQualCond'</li>\n",
       "\t<li>'BsmtQualCondMax'</li>\n",
       "\t<li>'GarageQualCondMax'</li>\n",
       "\t<li>'ExterQualCondMax'</li>\n",
       "\t<li>'Id'</li>\n",
       "\t<li>'SalePrice'</li>\n",
       "</ol>\n"
      ],
      "text/latex": [
       "\\begin{enumerate*}\n",
       "\\item 'MSSubClass'\n",
       "\\item 'LotFrontage'\n",
       "\\item 'LotArea'\n",
       "\\item 'OverallQual'\n",
       "\\item 'OverallCond'\n",
       "\\item 'YearBuilt'\n",
       "\\item 'YearRemodAdd'\n",
       "\\item 'MasVnrArea'\n",
       "\\item 'BsmtFinSF1'\n",
       "\\item 'BsmtFinSF2'\n",
       "\\item 'BsmtUnfSF'\n",
       "\\item 'TotalBsmtSF'\n",
       "\\item '1stFlrSF'\n",
       "\\item '2ndFlrSF'\n",
       "\\item 'LowQualFinSF'\n",
       "\\item 'GrLivArea'\n",
       "\\item 'BsmtFullBath'\n",
       "\\item 'BsmtHalfBath'\n",
       "\\item 'FullBath'\n",
       "\\item 'HalfBath'\n",
       "\\item 'BedroomAbvGr'\n",
       "\\item 'KitchenAbvGr'\n",
       "\\item 'TotRmsAbvGrd'\n",
       "\\item 'Fireplaces'\n",
       "\\item 'GarageYrBlt'\n",
       "\\item 'GarageCars'\n",
       "\\item 'WoodDeckSF'\n",
       "\\item 'PoolArea'\n",
       "\\item 'MiscVal'\n",
       "\\item 'MoSold'\n",
       "\\item 'YrSold'\n",
       "\\item 'Porch'\n",
       "\\item 'AbvGrTotalBath'\n",
       "\\item 'BsmtTotalBath'\n",
       "\\item 'TotalSQF'\n",
       "\\item 'BedRoomsPerSQFAbvGr'\n",
       "\\item 'KitchensPerBedroom'\n",
       "\\item 'BathPerBedRoom'\n",
       "\\item 'ExtraRoom'\n",
       "\\item 'YearNbrhd'\n",
       "\\item 'LotAreaNbrhd'\n",
       "\\item 'TotalSqfNbrHd'\n",
       "\\item 'BsmtQualCond'\n",
       "\\item 'ExterQualCond'\n",
       "\\item 'OverQualCond'\n",
       "\\item 'BsmtQualCondMax'\n",
       "\\item 'GarageQualCondMax'\n",
       "\\item 'ExterQualCondMax'\n",
       "\\item 'Id'\n",
       "\\item 'SalePrice'\n",
       "\\end{enumerate*}\n"
      ],
      "text/markdown": [
       "1. 'MSSubClass'\n",
       "2. 'LotFrontage'\n",
       "3. 'LotArea'\n",
       "4. 'OverallQual'\n",
       "5. 'OverallCond'\n",
       "6. 'YearBuilt'\n",
       "7. 'YearRemodAdd'\n",
       "8. 'MasVnrArea'\n",
       "9. 'BsmtFinSF1'\n",
       "10. 'BsmtFinSF2'\n",
       "11. 'BsmtUnfSF'\n",
       "12. 'TotalBsmtSF'\n",
       "13. '1stFlrSF'\n",
       "14. '2ndFlrSF'\n",
       "15. 'LowQualFinSF'\n",
       "16. 'GrLivArea'\n",
       "17. 'BsmtFullBath'\n",
       "18. 'BsmtHalfBath'\n",
       "19. 'FullBath'\n",
       "20. 'HalfBath'\n",
       "21. 'BedroomAbvGr'\n",
       "22. 'KitchenAbvGr'\n",
       "23. 'TotRmsAbvGrd'\n",
       "24. 'Fireplaces'\n",
       "25. 'GarageYrBlt'\n",
       "26. 'GarageCars'\n",
       "27. 'WoodDeckSF'\n",
       "28. 'PoolArea'\n",
       "29. 'MiscVal'\n",
       "30. 'MoSold'\n",
       "31. 'YrSold'\n",
       "32. 'Porch'\n",
       "33. 'AbvGrTotalBath'\n",
       "34. 'BsmtTotalBath'\n",
       "35. 'TotalSQF'\n",
       "36. 'BedRoomsPerSQFAbvGr'\n",
       "37. 'KitchensPerBedroom'\n",
       "38. 'BathPerBedRoom'\n",
       "39. 'ExtraRoom'\n",
       "40. 'YearNbrhd'\n",
       "41. 'LotAreaNbrhd'\n",
       "42. 'TotalSqfNbrHd'\n",
       "43. 'BsmtQualCond'\n",
       "44. 'ExterQualCond'\n",
       "45. 'OverQualCond'\n",
       "46. 'BsmtQualCondMax'\n",
       "47. 'GarageQualCondMax'\n",
       "48. 'ExterQualCondMax'\n",
       "49. 'Id'\n",
       "50. 'SalePrice'\n",
       "\n",
       "\n"
      ],
      "text/plain": [
       " [1] \"MSSubClass\"          \"LotFrontage\"         \"LotArea\"            \n",
       " [4] \"OverallQual\"         \"OverallCond\"         \"YearBuilt\"          \n",
       " [7] \"YearRemodAdd\"        \"MasVnrArea\"          \"BsmtFinSF1\"         \n",
       "[10] \"BsmtFinSF2\"          \"BsmtUnfSF\"           \"TotalBsmtSF\"        \n",
       "[13] \"1stFlrSF\"            \"2ndFlrSF\"            \"LowQualFinSF\"       \n",
       "[16] \"GrLivArea\"           \"BsmtFullBath\"        \"BsmtHalfBath\"       \n",
       "[19] \"FullBath\"            \"HalfBath\"            \"BedroomAbvGr\"       \n",
       "[22] \"KitchenAbvGr\"        \"TotRmsAbvGrd\"        \"Fireplaces\"         \n",
       "[25] \"GarageYrBlt\"         \"GarageCars\"          \"WoodDeckSF\"         \n",
       "[28] \"PoolArea\"            \"MiscVal\"             \"MoSold\"             \n",
       "[31] \"YrSold\"              \"Porch\"               \"AbvGrTotalBath\"     \n",
       "[34] \"BsmtTotalBath\"       \"TotalSQF\"            \"BedRoomsPerSQFAbvGr\"\n",
       "[37] \"KitchensPerBedroom\"  \"BathPerBedRoom\"      \"ExtraRoom\"          \n",
       "[40] \"YearNbrhd\"           \"LotAreaNbrhd\"        \"TotalSqfNbrHd\"      \n",
       "[43] \"BsmtQualCond\"        \"ExterQualCond\"       \"OverQualCond\"       \n",
       "[46] \"BsmtQualCondMax\"     \"GarageQualCondMax\"   \"ExterQualCondMax\"   \n",
       "[49] \"Id\"                  \"SalePrice\"          "
      ]
     },
     "metadata": {},
     "output_type": "display_data"
    }
   ],
   "source": [
    "large.errors <- abs(log(predict.train(elastic.fit, newdata = train)) - log(train$SalePrice)) >0.5\n",
    "train.raw  <- train.raw %>% mutate(errors = abs(log(predict.train(elastic.fit, newdata = train)) - log(train$SalePrice))) \n",
    "train %>% select_if(is.numeric) %>% names()"
   ]
  },
  {
   "cell_type": "code",
   "execution_count": 117,
   "metadata": {},
   "outputs": [
    {
     "name": "stderr",
     "output_type": "stream",
     "text": [
      "`summarise()` ungrouping output (override with `.groups` argument)\n"
     ]
    },
    {
     "data": {
      "image/png": "[encoded data removed]",
      "text/plain": [
       "plot without title"
      ]
     },
     "metadata": {},
     "output_type": "display_data"
    }
   ],
   "source": []
  },
  {
   "cell_type": "code",
   "execution_count": null,
   "metadata": {},
   "outputs": [],
   "source": []
  }
 ],
 "metadata": {
  "kernelspec": {
   "display_name": "R",
   "language": "R",
   "name": "ir"
  },
  "language_info": {
   "codemirror_mode": "r",
   "file_extension": ".r",
   "mimetype": "text/x-r-source",
   "name": "R",
   "pygments_lexer": "r",
   "version": "3.6.1"
  }
 },
 "nbformat": 4,
 "nbformat_minor": 4
}
