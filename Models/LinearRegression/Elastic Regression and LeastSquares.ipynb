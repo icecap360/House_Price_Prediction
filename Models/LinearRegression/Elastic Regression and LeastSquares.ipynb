{
 "cells": [
  {
   "cell_type": "code",
   "execution_count": 126,
   "metadata": {},
   "outputs": [
    {
     "name": "stderr",
     "output_type": "stream",
     "text": [
      "Warning message in library(modules):\n",
      "\"Packages loaded with 'library' may not be available inside a module. For loading packages in a module, use 'import' instead.\"Warning message in library(rlang):\n",
      "\"Packages loaded with 'library' may not be available inside a module. For loading packages in a module, use 'import' instead.\""
     ]
    }
   ],
   "source": [
    "library(tidyverse)\n",
    "library(caret)\n",
    "library(car)\n",
    "library(glmnet)\n",
    "\n",
    "setwd('C:/Users/iceca/Documents/Housing_Regression')\n",
    "\n",
    "set.seed(42)\n",
    "\n",
    "m <- modules::use(\"Helpers/Loading_Data.R\")\n",
    "m <- m$load.train"
   ]
  },
  {
   "cell_type": "code",
   "execution_count": 127,
   "metadata": {},
   "outputs": [],
   "source": [
    "dat <- m$skew.data()\n",
    "test <- dat[[1]] \n",
    "train <- dat[[1]]\n",
    "labels <- m$get.labels() %>% arrange(Id) %>% filter(Id %in% train$Id)\n",
    "train <- dat[[1]] %>% arrange(Id) %>% mutate(SalePrice = labels$SalePrice)\n",
    "cross.validation.index <- createDataPartition(labels$SalePrice,times = 1,p = 0.1,list = FALSE)\n",
    "cv <- train[cross.validation.index , ]\n",
    "train <- train[-cross.validation.index , ]"
   ]
  },
  {
   "cell_type": "code",
   "execution_count": null,
   "metadata": {},
   "outputs": [],
   "source": [
    "names(train)"
   ]
  },
  {
   "cell_type": "code",
   "execution_count": 129,
   "metadata": {},
   "outputs": [
    {
     "ename": "ERROR",
     "evalue": "Error in eval(predvars, data, env): object 'SalePrice' not found\n",
     "output_type": "error",
     "traceback": [
      "Error in eval(predvars, data, env): object 'SalePrice' not found\nTraceback:\n",
      "1. lm(SalePrice ~ ., train)",
      "2. eval(mf, parent.frame())",
      "3. eval(mf, parent.frame())",
      "4. stats::model.frame(formula = SalePrice ~ ., data = train, drop.unused.levels = TRUE)",
      "5. model.frame.default(formula = SalePrice ~ ., data = train, drop.unused.levels = TRUE)",
      "6. eval(predvars, data, env)",
      "7. eval(predvars, data, env)"
     ]
    }
   ],
   "source": [
    "#LEAST SQUARES\n",
    "fit <- lm(SalePrice ~. , train)\n",
    "print(\"Least Square Cross Validated MSE is \")\n",
    "sqrt(mean((log(predict(fit, newdata=cv)) - log(cv$SalePrice))^2))\n",
    "\n",
    "\n",
    "#plotting the linear regression reveals that there the model has difficulty in predicting \n",
    "#large home and very small home prices, there is some non linearity in the data, there are 3\n",
    "#high leverage points\n",
    "#plot(fit)\n",
    "\n",
    "\n",
    "#removing the high leverage points we decrease the cv mse\n",
    "fit.no.leverage <- lm(SalePrice ~. , train[ -c(597,952, 108), ])\n",
    "sqrt(mean((log(predict( fit.no.leverage , newdata=cv)) - log(cv$SalePrice))^2))\n",
    "\n",
    "#make the model predict log saleprice to help it predict exteme home prices\n",
    "#although this decrease the cross validated error it does not fix the underlying extreme value problem\n",
    "library(haven)\n",
    "fit.log.saleprice <- lm(SalePrice ~. , (train %>% mutate(SalePrice = log(SalePrice))))\n",
    "print(\"Least Square Log Cross Validated MSE is \")\n",
    "sqrt(mean(( predict(fit.log.saleprice, newdata=cv) - log(cv$SalePrice))^2))\n",
    "plot(fit.log.saleprice)\n"
   ]
  },
  {
   "cell_type": "markdown",
   "metadata": {},
   "source": [
    "INTERPRETING COEFFICIENTS <br>\n",
    "exter condition is the best predictor\n",
    "    <br>meanwhile poor external quality will significantly hurt your home value\n",
    "<br>living area is the second most effective variable \n",
    "<br>basement condition come in at close 3rd and follows a similar pattern to the exterior\n",
    "<br>functional homes and new homes are 4th\n",
    "<br>neighbourhood which was declared very valuable in the exploration, is infact unhelpful except in Br\n",
    "<br>nearness to amenities was not a imporatant predictor, this was a surprise. \n",
    "<br>garages have more predicting power then kitchens and bedrooms, this is very surprising\n",
    "    <br>perhaps the results from this lm fit should be taken with a grain of salt"
   ]
  },
  {
   "cell_type": "code",
   "execution_count": 130,
   "metadata": {
    "scrolled": true
   },
   "outputs": [
    {
     "ename": "ERROR",
     "evalue": "Error in eval(predvars, data, env): object 'SalePrice' not found\n",
     "output_type": "error",
     "traceback": [
      "Error in eval(predvars, data, env): object 'SalePrice' not found\nTraceback:\n",
      "1. lm(SalePrice ~ . - BsmtCond - GarageFinish - GarageQual - GarageCond - \n .     Condition2 - BsmtFinType2 - NormalRoof - NormalHeating - \n .     NormalFunction - AbvGrTotalBath - TotalSQF - BathPerBedRoom - \n .     ExtraRoom - YearNbrhd - TotalSqfNbrHd - GarageQualCondMax, \n .     train) %>% vif() %>% as.data.frame() %>% arrange(-GVIF^(1/(2 * \n .     Df)))",
      "2. eval(lhs, parent, parent)",
      "3. eval(lhs, parent, parent)",
      "4. lm(SalePrice ~ . - BsmtCond - GarageFinish - GarageQual - GarageCond - \n .     Condition2 - BsmtFinType2 - NormalRoof - NormalHeating - \n .     NormalFunction - AbvGrTotalBath - TotalSQF - BathPerBedRoom - \n .     ExtraRoom - YearNbrhd - TotalSqfNbrHd - GarageQualCondMax, \n .     train)",
      "5. eval(mf, parent.frame())",
      "6. eval(mf, parent.frame())",
      "7. stats::model.frame(formula = SalePrice ~ . - BsmtCond - GarageFinish - \n .     GarageQual - GarageCond - Condition2 - BsmtFinType2 - NormalRoof - \n .     NormalHeating - NormalFunction - AbvGrTotalBath - TotalSQF - \n .     BathPerBedRoom - ExtraRoom - YearNbrhd - TotalSqfNbrHd - \n .     GarageQualCondMax, data = train, drop.unused.levels = TRUE)",
      "8. model.frame.default(formula = SalePrice ~ . - BsmtCond - GarageFinish - \n .     GarageQual - GarageCond - Condition2 - BsmtFinType2 - NormalRoof - \n .     NormalHeating - NormalFunction - AbvGrTotalBath - TotalSQF - \n .     BathPerBedRoom - ExtraRoom - YearNbrhd - TotalSqfNbrHd - \n .     GarageQualCondMax, data = train, drop.unused.levels = TRUE)",
      "9. eval(predvars, data, env)",
      "10. eval(predvars, data, env)"
     ]
    }
   ],
   "source": [
    "\n",
    "#DETECTING COLINEARITY \n",
    "lm(SalePrice ~. -BsmtCond-GarageFinish-GarageQual\n",
    "-GarageCond-Condition2-BsmtFinType2-NormalRoof-NormalHeating-NormalFunction-AbvGrTotalBath-TotalSQF-BathPerBedRoom\n",
    "-ExtraRoom-YearNbrhd-TotalSqfNbrHd-GarageQualCondMax, train) %>% vif() %>% as.data.frame() %>% arrange(-GVIF^(1/(2*Df)))\n",
    "#the variables removed in the lm object are very coollinear, other colinear variables include\n",
    "        #-BsmtTotalBath-BsmtQualCond-KitchenAbvGr-ExterQualCondMax-OverQualCond-BsmtFinSF2-MasVnrArea-ExterQualCond"
   ]
  },
  {
   "cell_type": "code",
   "execution_count": 131,
   "metadata": {},
   "outputs": [
    {
     "ename": "ERROR",
     "evalue": "Error in eval(predvars, data, env): object 'SalePrice' not found\n",
     "output_type": "error",
     "traceback": [
      "Error in eval(predvars, data, env): object 'SalePrice' not found\nTraceback:\n",
      "1. regsubsets(SalePrice ~ . - Id, data = train, nbest = 1, nvmax = models, \n .     method = \"forward\")",
      "2. regsubsets.formula(SalePrice ~ . - Id, data = train, nbest = 1, \n .     nvmax = models, method = \"forward\")",
      "3. eval(mm, sys.frame(sys.parent()))",
      "4. eval(mm, sys.frame(sys.parent()))",
      "5. model.frame(data = train, formula = SalePrice ~ . - Id)",
      "6. model.frame.default(data = train, formula = SalePrice ~ . - Id)",
      "7. eval(predvars, data, env)",
      "8. eval(predvars, data, env)"
     ]
    }
   ],
   "source": [
    "#FORWARD SELECTION\n",
    "\n",
    "models <- 180\n",
    "\n",
    "library(leaps)\n",
    "reg.fit <- regsubsets(SalePrice ~ .-Id , data=train, nbest=1, nvmax=models, method=\"forward\")\n",
    "sum.reg.fit <- summary(reg.fit)\n",
    "sum.reg.fit  %>% names()\n",
    "\n",
    "#plots show that the adding more variables always helps, however I will pick 30\n",
    "#plot(sum.reg.fit$adjr2)\n",
    "#plot(sum.reg.fit$bic)\n",
    "#plot(sum.reg.fit$rss)\n",
    "#plot(sum.reg.fit$cp)\n",
    "\n",
    "\n",
    "#cross validation loop\n",
    "data.mat <- model.matrix(SalePrice ~.-Id, rbind(train,cv))\n",
    "cv.mat <- data.mat[1306:dim(data.mat)[1] , ]\n",
    "cv.errors <- rep(0,models)\n",
    "for (i in 1:models) {\n",
    "    coefi <- coef(reg.fit , id=i)\n",
    "    pred <- cv.mat[, names(coefi)] %*% coefi\n",
    "    cv.errors[i] <- sqrt(mean( (log(pred)  -   log(cv$SalePrice))^2 ) )\n",
    "}\n",
    "\n",
    "#Cross validation decreases all the way until the final variable! looks like all the variables are important\n",
    "plot(cv.errors, xlab = \"number of features\", ylab=\"cross validation error\")\n",
    "\n",
    "cat(\"The best number of variables was \", which.min(cv.errors), \"which gave an error of\", min(cv.errors))"
   ]
  },
  {
   "cell_type": "code",
   "execution_count": 132,
   "metadata": {},
   "outputs": [
    {
     "ename": "ERROR",
     "evalue": "Error in eval(predvars, data, env): object 'SalePrice' not found\n",
     "output_type": "error",
     "traceback": [
      "Error in eval(predvars, data, env): object 'SalePrice' not found\nTraceback:\n",
      "1. regsubsets(SalePrice ~ . - Id, data = train, nbest = 1, nvmax = models, \n .     method = \"backward\")",
      "2. regsubsets.formula(SalePrice ~ . - Id, data = train, nbest = 1, \n .     nvmax = models, method = \"backward\")",
      "3. eval(mm, sys.frame(sys.parent()))",
      "4. eval(mm, sys.frame(sys.parent()))",
      "5. model.frame(data = train, formula = SalePrice ~ . - Id)",
      "6. model.frame.default(data = train, formula = SalePrice ~ . - Id)",
      "7. eval(predvars, data, env)",
      "8. eval(predvars, data, env)"
     ]
    }
   ],
   "source": [
    "#BACKWARD SELECTION\n",
    "\n",
    "models <- 180\n",
    "\n",
    "library(leaps)\n",
    "reg.fit <- regsubsets(SalePrice ~ .-Id , data=train, nbest=1, nvmax=models, method=\"backward\")\n",
    "sum.reg.fit <- summary(reg.fit)\n",
    "sum.reg.fit  %>% names()\n",
    "\n",
    "#plots show that the adding more variables always helps, however I will pick 30\n",
    "#plot(sum.reg.fit$adjr2)\n",
    "#plot(sum.reg.fit$bic)\n",
    "#plot(sum.reg.fit$rss)\n",
    "#plot(sum.reg.fit$cp)\n",
    "\n",
    "\n",
    "#cross validation loop\n",
    "data.mat <- model.matrix(SalePrice ~.-Id, rbind(train,cv))\n",
    "train.mat <- data.mat[1:1305 , ]\n",
    "cv.mat <- data.mat[1306:dim(data.mat)[1] , ]\n",
    "cv.errors <- rep(0,models)\n",
    "for (i in 1:models) {\n",
    "    coefi <- coef(reg.fit , id=i)\n",
    "    pred <- cv.mat[, names(coefi)] %*% coefi\n",
    "    cv.errors[i] <- sqrt(mean( (log(pred)  -   log(cv$SalePrice))^2 ) )\n",
    "}\n",
    "\n",
    "#Cross validation decreases all the way until the final variable! looks like all the variables are important\n",
    "plot(cv.errors, xlab = \"number of features\", ylab=\"cross validation error\")\n",
    "cat(\"The best number of variables was \", which.min(cv.errors), \"which gave an error of\", min(cv.errors))"
   ]
  },
  {
   "cell_type": "code",
   "execution_count": 153,
   "metadata": {},
   "outputs": [],
   "source": [
    "#ELASTIC REGRESSION\n",
    "train <- dat[[1]] %>% arrange(Id) %>% mutate(SalePrice = labels$SalePrice)\n",
    "log.mse <- function (data,\n",
    "                        lev = NULL,\n",
    "                        model = NULL) {\n",
    "  out <-  sqrt(mean(   (log(data$obs) - log(abs(data$pred)))^2   ))\n",
    "  names(out) <- \"logMSE\"\n",
    "  out\n",
    "}\n",
    "\n",
    "elastic.fit <- train(\n",
    "  SalePrice ~., \n",
    "    data = train, method = \"glmnet\",\n",
    "  trControl = trainControl(\"cv\", number = 10, search= \"random\",summaryFunction = log.mse ),\n",
    "  tuneGrid = expand.grid(alpha=c(0,0.2,0.4,0.6,0.8,1.0) , lambda = 2^(seq(10, -10, -1)) ),\n",
    "  metric=\"logMSE\",\n",
    "  tuneLength = 500\n",
    ")\n"
   ]
  },
  {
   "cell_type": "code",
   "execution_count": 156,
   "metadata": {},
   "outputs": [
    {
     "data": {
      "image/png": "[encoded data removed]",
      "text/plain": [
       "plot without title"
      ]
     },
     "metadata": {},
     "output_type": "display_data"
    }
   ],
   "source": [
    "plot(train$LotArea, train$SalePrice)"
   ]
  },
  {
   "cell_type": "markdown",
   "metadata": {},
   "source": [
    "BEST RESULTS FOR ELASTIC NET <br>\n",
    "alpha=0.8, lambda=8, logMSE=0.126639224809508\n",
    "\n",
    " <br>\n"
   ]
  },
  {
   "cell_type": "code",
   "execution_count": 108,
   "metadata": {},
   "outputs": [],
   "source": [
    "#PRINCIPAL COMPONENT REGRESSION\n",
    "pcr.fit <- train(\n",
    "  SalePrice ~., \n",
    "    data = train, method = \"pcr\",\n",
    "  trControl = trainControl(\"cv\", number = 10, search= \"random\",summaryFunction = log.mse ),\n",
    "  tuneGrid = expand.grid(ncomp = 1:150),\n",
    "  metric=\"logMSE\",\n",
    "  tuneLength = 60\n",
    ")"
   ]
  },
  {
   "cell_type": "markdown",
   "metadata": {},
   "source": [
    "PCR RESULTS <br>\n",
    "ncomp = 80, error = 0.134100302263929\n",
    "\n"
   ]
  },
  {
   "cell_type": "code",
   "execution_count": 106,
   "metadata": {},
   "outputs": [],
   "source": []
  },
  {
   "cell_type": "code",
   "execution_count": null,
   "metadata": {},
   "outputs": [],
   "source": []
  },
  {
   "cell_type": "code",
   "execution_count": null,
   "metadata": {},
   "outputs": [],
   "source": []
  },
  {
   "cell_type": "code",
   "execution_count": null,
   "metadata": {},
   "outputs": [],
   "source": [
    "\n"
   ]
  },
  {
   "cell_type": "code",
   "execution_count": null,
   "metadata": {},
   "outputs": [],
   "source": []
  }
 ],
 "metadata": {
  "kernelspec": {
   "display_name": "R",
   "language": "R",
   "name": "ir"
  },
  "language_info": {
   "codemirror_mode": "r",
   "file_extension": ".r",
   "mimetype": "text/x-r-source",
   "name": "R",
   "pygments_lexer": "r",
   "version": "3.6.1"
  }
 },
 "nbformat": 4,
 "nbformat_minor": 4
}
