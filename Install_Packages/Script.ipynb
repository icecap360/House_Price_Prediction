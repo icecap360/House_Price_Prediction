{
 "cells": [
  {
   "cell_type": "code",
   "execution_count": 5,
   "metadata": {
    "scrolled": true
   },
   "outputs": [
    {
     "name": "stdout",
     "output_type": "stream",
     "text": [
      "\n",
      "  There is a binary version available but the source version is later:\n",
      "    binary source needs_compilation\n",
      "VIM  5.1.1  6.0.0              TRUE\n",
      "\n"
     ]
    },
    {
     "name": "stderr",
     "output_type": "stream",
     "text": [
      "installing the source package 'VIM'\n",
      "\n"
     ]
    }
   ],
   "source": [
    "install.packages(\"VIM\")"
   ]
  },
  {
   "cell_type": "code",
   "execution_count": 6,
   "metadata": {},
   "outputs": [
    {
     "name": "stdout",
     "output_type": "stream",
     "text": [
      "package 'e1071' successfully unpacked and MD5 sums checked\n"
     ]
    },
    {
     "name": "stderr",
     "output_type": "stream",
     "text": [
      "Warning message:\n",
      "\"cannot remove prior installation of package 'e1071'\"Warning message in file.copy(savedcopy, lib, recursive = TRUE):\n",
      "\"problem copying C:\\Users\\iceca\\Anaconda_Folder\\envs\\Housing_Regression_Constest\\Lib\\R\\library\\00LOCK\\e1071\\libs\\x64\\e1071.dll to C:\\Users\\iceca\\Anaconda_Folder\\envs\\Housing_Regression_Constest\\Lib\\R\\library\\e1071\\libs\\x64\\e1071.dll: Permission denied\"Warning message:\n",
      "\"restored 'e1071'\""
     ]
    },
    {
     "name": "stdout",
     "output_type": "stream",
     "text": [
      "\n",
      "The downloaded binary packages are in\n",
      "\tC:\\Users\\iceca\\AppData\\Local\\Temp\\Rtmpgdfw0L\\downloaded_packages\n",
      "package 'xgboost' successfully unpacked and MD5 sums checked\n"
     ]
    },
    {
     "name": "stderr",
     "output_type": "stream",
     "text": [
      "Warning message:\n",
      "\"cannot remove prior installation of package 'xgboost'\"Warning message in file.copy(savedcopy, lib, recursive = TRUE):\n",
      "\"problem copying C:\\Users\\iceca\\Anaconda_Folder\\envs\\Housing_Regression_Constest\\Lib\\R\\library\\00LOCK\\xgboost\\libs\\x64\\xgboost.dll to C:\\Users\\iceca\\Anaconda_Folder\\envs\\Housing_Regression_Constest\\Lib\\R\\library\\xgboost\\libs\\x64\\xgboost.dll: Permission denied\"Warning message:\n",
      "\"restored 'xgboost'\""
     ]
    },
    {
     "name": "stdout",
     "output_type": "stream",
     "text": [
      "\n",
      "The downloaded binary packages are in\n",
      "\tC:\\Users\\iceca\\AppData\\Local\\Temp\\Rtmpgdfw0L\\downloaded_packages\n",
      "package 'plot3D' successfully unpacked and MD5 sums checked\n",
      "\n",
      "The downloaded binary packages are in\n",
      "\tC:\\Users\\iceca\\AppData\\Local\\Temp\\Rtmpgdfw0L\\downloaded_packages\n",
      "package 'gbm' successfully unpacked and MD5 sums checked\n",
      "\n",
      "The downloaded binary packages are in\n",
      "\tC:\\Users\\iceca\\AppData\\Local\\Temp\\Rtmpgdfw0L\\downloaded_packages\n",
      "package 'tree' successfully unpacked and MD5 sums checked\n",
      "\n",
      "The downloaded binary packages are in\n",
      "\tC:\\Users\\iceca\\AppData\\Local\\Temp\\Rtmpgdfw0L\\downloaded_packages\n"
     ]
    }
   ],
   "source": [
    "install.packages(\"e1071\")\n",
    "install.packages(\"xgboost\")\n",
    "install.packages(\"plot3D\")\n",
    "\n",
    "install.packages(\"gbm\")\n",
    "install.packages(\"tree\")"
   ]
  },
  {
   "cell_type": "code",
   "execution_count": 12,
   "metadata": {},
   "outputs": [
    {
     "name": "stdout",
     "output_type": "stream",
     "text": [
      "package 'mgcv' successfully unpacked and MD5 sums checked\n",
      "\n",
      "The downloaded binary packages are in\n",
      "\tC:\\Users\\iceca\\AppData\\Local\\Temp\\RtmpITMLp2\\downloaded_packages\n",
      "package 'plyr' successfully unpacked and MD5 sums checked\n"
     ]
    },
    {
     "name": "stderr",
     "output_type": "stream",
     "text": [
      "Warning message:\n",
      "\"cannot remove prior installation of package 'plyr'\"Warning message in file.copy(savedcopy, lib, recursive = TRUE):\n",
      "\"problem copying C:\\Users\\iceca\\Anaconda_Folder\\envs\\Housing_Regression_Constest\\Lib\\R\\library\\00LOCK\\plyr\\libs\\x64\\plyr.dll to C:\\Users\\iceca\\Anaconda_Folder\\envs\\Housing_Regression_Constest\\Lib\\R\\library\\plyr\\libs\\x64\\plyr.dll: Permission denied\"Warning message:\n",
      "\"restored 'plyr'\""
     ]
    },
    {
     "name": "stdout",
     "output_type": "stream",
     "text": [
      "\n",
      "The downloaded binary packages are in\n",
      "\tC:\\Users\\iceca\\AppData\\Local\\Temp\\RtmpITMLp2\\downloaded_packages\n"
     ]
    }
   ],
   "source": [
    "install.packages(\"mgcv\")\n",
    "install.packages(\"plyr\")\n"
   ]
  },
  {
   "cell_type": "code",
   "execution_count": 3,
   "metadata": {
    "scrolled": false
   },
   "outputs": [
    {
     "name": "stderr",
     "output_type": "stream",
     "text": [
      "also installing the dependencies 'goftest', 'nortest'\n",
      "\n"
     ]
    },
    {
     "name": "stdout",
     "output_type": "stream",
     "text": [
      "package 'goftest' successfully unpacked and MD5 sums checked\n",
      "package 'nortest' successfully unpacked and MD5 sums checked\n",
      "package 'olsrr' successfully unpacked and MD5 sums checked\n",
      "\n",
      "The downloaded binary packages are in\n",
      "\tC:\\Users\\iceca\\AppData\\Local\\Temp\\RtmpKC6oQ7\\downloaded_packages\n"
     ]
    }
   ],
   "source": [
    "install.packages(\"modules\")\n"
   ]
  },
  {
   "cell_type": "code",
   "execution_count": null,
   "metadata": {},
   "outputs": [
    {
     "name": "stdout",
     "output_type": "stream",
     "text": [
      "package 'LEAP' successfully unpacked and MD5 sums checked\n",
      "\n",
      "The downloaded binary packages are in\n",
      "\tC:\\Users\\iceca\\AppData\\Local\\Temp\\RtmpKC6oQ7\\downloaded_packages\n",
      "\n",
      "  There is a binary version available but the source version is later:\n",
      "    binary source needs_compilation\n",
      "pls  2.7-2  2.7-3             FALSE\n",
      "\n"
     ]
    },
    {
     "name": "stderr",
     "output_type": "stream",
     "text": [
      "installing the source package 'pls'\n",
      "\n"
     ]
    }
   ],
   "source": [
    "install.packages(\"pls\")\n"
   ]
  },
  {
   "cell_type": "code",
   "execution_count": 3,
   "metadata": {},
   "outputs": [
    {
     "name": "stdout",
     "output_type": "stream",
     "text": [
      "package 'leaps' successfully unpacked and MD5 sums checked\n",
      "\n",
      "The downloaded binary packages are in\n",
      "\tC:\\Users\\iceca\\AppData\\Local\\Temp\\RtmpsVVdzG\\downloaded_packages\n"
     ]
    }
   ],
   "source": [
    "install.packages(\"leaps\")\n"
   ]
  },
  {
   "cell_type": "code",
   "execution_count": 1,
   "metadata": {},
   "outputs": [
    {
     "name": "stderr",
     "output_type": "stream",
     "text": [
      "also installing the dependencies 'gridExtra', 'bitops', 'viridis', 'gtools', 'gdata', 'caTools', 'TSP', 'qap', 'gclus', 'dendextend', 'gplots', 'registry', 'seriation'\n",
      "\n"
     ]
    },
    {
     "name": "stdout",
     "output_type": "stream",
     "text": [
      "package 'gridExtra' successfully unpacked and MD5 sums checked\n",
      "package 'bitops' successfully unpacked and MD5 sums checked\n",
      "package 'viridis' successfully unpacked and MD5 sums checked\n",
      "package 'gtools' successfully unpacked and MD5 sums checked\n",
      "package 'gdata' successfully unpacked and MD5 sums checked\n",
      "package 'caTools' successfully unpacked and MD5 sums checked\n",
      "package 'TSP' successfully unpacked and MD5 sums checked\n",
      "package 'qap' successfully unpacked and MD5 sums checked\n",
      "package 'gclus' successfully unpacked and MD5 sums checked\n",
      "package 'dendextend' successfully unpacked and MD5 sums checked\n",
      "package 'gplots' successfully unpacked and MD5 sums checked\n",
      "package 'registry' successfully unpacked and MD5 sums checked\n",
      "package 'seriation' successfully unpacked and MD5 sums checked\n",
      "package 'corrgram' successfully unpacked and MD5 sums checked\n",
      "\n",
      "The downloaded binary packages are in\n",
      "\tC:\\Users\\iceca\\AppData\\Local\\Temp\\RtmpUjDTxY\\downloaded_packages\n"
     ]
    }
   ],
   "source": [
    "install.packages(\"corrgram\")"
   ]
  },
  {
   "cell_type": "code",
   "execution_count": 4,
   "metadata": {
    "scrolled": true
   },
   "outputs": [
    {
     "name": "stderr",
     "output_type": "stream",
     "text": [
      "also installing the dependencies 'haven', 'purrr', 'xml2'\n",
      "\n"
     ]
    },
    {
     "name": "stdout",
     "output_type": "stream",
     "text": [
      "package 'haven' successfully unpacked and MD5 sums checked\n",
      "package 'purrr' successfully unpacked and MD5 sums checked\n",
      "package 'xml2' successfully unpacked and MD5 sums checked\n",
      "package 'tidyverse' successfully unpacked and MD5 sums checked\n",
      "\n",
      "The downloaded binary packages are in\n",
      "\tC:\\Users\\iceca\\AppData\\Local\\Temp\\RtmpmAmElk\\downloaded_packages\n"
     ]
    }
   ],
   "source": [
    "install.packages(\"tidyverse\")"
   ]
  },
  {
   "cell_type": "code",
   "execution_count": 1,
   "metadata": {
    "scrolled": true
   },
   "outputs": [
    {
     "name": "stdout",
     "output_type": "stream",
     "text": [
      "package 'rlang' successfully unpacked and MD5 sums checked\n",
      "\n",
      "The downloaded binary packages are in\n",
      "\tC:\\Users\\iceca\\AppData\\Local\\Temp\\RtmpmAmElk\\downloaded_packages\n"
     ]
    }
   ],
   "source": [
    "install.packages(\"rlang\")"
   ]
  },
  {
   "cell_type": "code",
   "execution_count": 2,
   "metadata": {
    "scrolled": true
   },
   "outputs": [
    {
     "name": "stderr",
     "output_type": "stream",
     "text": [
      "also installing the dependencies 'glue', 'tibble', 'dplyr', 'tidyselect'\n",
      "\n"
     ]
    },
    {
     "name": "stdout",
     "output_type": "stream",
     "text": [
      "\n",
      "  There are binary versions available but the source versions are later:\n",
      "      binary source needs_compilation\n",
      "dplyr  1.0.0  1.0.1              TRUE\n",
      "tidyr  1.1.0  1.1.1              TRUE\n",
      "\n",
      "package 'glue' successfully unpacked and MD5 sums checked\n",
      "package 'tibble' successfully unpacked and MD5 sums checked\n",
      "package 'tidyselect' successfully unpacked and MD5 sums checked\n",
      "\n",
      "The downloaded binary packages are in\n",
      "\tC:\\Users\\iceca\\AppData\\Local\\Temp\\RtmpmAmElk\\downloaded_packages\n"
     ]
    },
    {
     "name": "stderr",
     "output_type": "stream",
     "text": [
      "installing the source packages 'dplyr', 'tidyr'\n",
      "\n"
     ]
    }
   ],
   "source": [
    "install.packages(\"tidyr\")"
   ]
  },
  {
   "cell_type": "code",
   "execution_count": 5,
   "metadata": {},
   "outputs": [
    {
     "name": "stdout",
     "output_type": "stream",
     "text": [
      "package 'outliers' successfully unpacked and MD5 sums checked\n",
      "\n",
      "The downloaded binary packages are in\n",
      "\tC:\\Users\\iceca\\AppData\\Local\\Temp\\RtmpUjDTxY\\downloaded_packages\n"
     ]
    }
   ],
   "source": [
    "install.packages(\"outliers\")"
   ]
  },
  {
   "cell_type": "code",
   "execution_count": 3,
   "metadata": {},
   "outputs": [
    {
     "name": "stdout",
     "output_type": "stream",
     "text": [
      "package 'survival' successfully unpacked and MD5 sums checked\n",
      "package 'survminer' successfully unpacked and MD5 sums checked\n",
      "\n",
      "The downloaded binary packages are in\n",
      "\tC:\\Users\\iceca\\AppData\\Local\\Temp\\RtmpmAmElk\\downloaded_packages\n"
     ]
    }
   ],
   "source": [
    "install.packages(c(\"survival\", \"survminer\"))\n"
   ]
  },
  {
   "cell_type": "code",
   "execution_count": null,
   "metadata": {},
   "outputs": [],
   "source": []
  }
 ],
 "metadata": {
  "kernelspec": {
   "display_name": "R",
   "language": "R",
   "name": "ir"
  },
  "language_info": {
   "codemirror_mode": "r",
   "file_extension": ".r",
   "mimetype": "text/x-r-source",
   "name": "R",
   "pygments_lexer": "r",
   "version": "3.6.1"
  }
 },
 "nbformat": 4,
 "nbformat_minor": 4
}
